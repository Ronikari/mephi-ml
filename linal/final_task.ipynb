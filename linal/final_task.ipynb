{
 "cells": [
  {
   "cell_type": "code",
   "execution_count": 3,
   "metadata": {},
   "outputs": [],
   "source": [
    "import numpy as np\n",
    "import pandas as pd"
   ]
  },
  {
   "cell_type": "code",
   "execution_count": 46,
   "metadata": {},
   "outputs": [
    {
     "data": {
      "text/html": [
       "<div>\n",
       "<style scoped>\n",
       "    .dataframe tbody tr th:only-of-type {\n",
       "        vertical-align: middle;\n",
       "    }\n",
       "\n",
       "    .dataframe tbody tr th {\n",
       "        vertical-align: top;\n",
       "    }\n",
       "\n",
       "    .dataframe thead th {\n",
       "        text-align: right;\n",
       "    }\n",
       "</style>\n",
       "<table border=\"1\" class=\"dataframe\">\n",
       "  <thead>\n",
       "    <tr style=\"text-align: right;\">\n",
       "      <th></th>\n",
       "      <th>Комнаты</th>\n",
       "      <th>Площадь</th>\n",
       "      <th>Этаж</th>\n",
       "      <th>Центр</th>\n",
       "      <th>Спальный1</th>\n",
       "      <th>Спальный2</th>\n",
       "      <th>Цена</th>\n",
       "    </tr>\n",
       "  </thead>\n",
       "  <tbody>\n",
       "    <tr>\n",
       "      <th>0</th>\n",
       "      <td>3</td>\n",
       "      <td>51</td>\n",
       "      <td>3</td>\n",
       "      <td>0</td>\n",
       "      <td>1</td>\n",
       "      <td>0</td>\n",
       "      <td>2200</td>\n",
       "    </tr>\n",
       "    <tr>\n",
       "      <th>1</th>\n",
       "      <td>1</td>\n",
       "      <td>30</td>\n",
       "      <td>1</td>\n",
       "      <td>0</td>\n",
       "      <td>1</td>\n",
       "      <td>0</td>\n",
       "      <td>1600</td>\n",
       "    </tr>\n",
       "    <tr>\n",
       "      <th>2</th>\n",
       "      <td>2</td>\n",
       "      <td>45</td>\n",
       "      <td>2</td>\n",
       "      <td>0</td>\n",
       "      <td>1</td>\n",
       "      <td>0</td>\n",
       "      <td>1900</td>\n",
       "    </tr>\n",
       "    <tr>\n",
       "      <th>3</th>\n",
       "      <td>3</td>\n",
       "      <td>55</td>\n",
       "      <td>1</td>\n",
       "      <td>0</td>\n",
       "      <td>1</td>\n",
       "      <td>0</td>\n",
       "      <td>2000</td>\n",
       "    </tr>\n",
       "    <tr>\n",
       "      <th>4</th>\n",
       "      <td>1</td>\n",
       "      <td>45</td>\n",
       "      <td>3</td>\n",
       "      <td>1</td>\n",
       "      <td>0</td>\n",
       "      <td>0</td>\n",
       "      <td>4500</td>\n",
       "    </tr>\n",
       "    <tr>\n",
       "      <th>5</th>\n",
       "      <td>3</td>\n",
       "      <td>100</td>\n",
       "      <td>3</td>\n",
       "      <td>1</td>\n",
       "      <td>0</td>\n",
       "      <td>0</td>\n",
       "      <td>7000</td>\n",
       "    </tr>\n",
       "    <tr>\n",
       "      <th>6</th>\n",
       "      <td>2</td>\n",
       "      <td>71</td>\n",
       "      <td>2</td>\n",
       "      <td>1</td>\n",
       "      <td>0</td>\n",
       "      <td>0</td>\n",
       "      <td>5000</td>\n",
       "    </tr>\n",
       "    <tr>\n",
       "      <th>7</th>\n",
       "      <td>1</td>\n",
       "      <td>31</td>\n",
       "      <td>2</td>\n",
       "      <td>0</td>\n",
       "      <td>0</td>\n",
       "      <td>1</td>\n",
       "      <td>1700</td>\n",
       "    </tr>\n",
       "    <tr>\n",
       "      <th>8</th>\n",
       "      <td>3</td>\n",
       "      <td>53</td>\n",
       "      <td>5</td>\n",
       "      <td>0</td>\n",
       "      <td>0</td>\n",
       "      <td>1</td>\n",
       "      <td>2100</td>\n",
       "    </tr>\n",
       "    <tr>\n",
       "      <th>9</th>\n",
       "      <td>1</td>\n",
       "      <td>33</td>\n",
       "      <td>3</td>\n",
       "      <td>0</td>\n",
       "      <td>0</td>\n",
       "      <td>1</td>\n",
       "      <td>1500</td>\n",
       "    </tr>\n",
       "    <tr>\n",
       "      <th>10</th>\n",
       "      <td>2</td>\n",
       "      <td>43</td>\n",
       "      <td>5</td>\n",
       "      <td>0</td>\n",
       "      <td>0</td>\n",
       "      <td>1</td>\n",
       "      <td>2000</td>\n",
       "    </tr>\n",
       "  </tbody>\n",
       "</table>\n",
       "</div>"
      ],
      "text/plain": [
       "    Комнаты  Площадь  Этаж  Центр  Спальный1  Спальный2  Цена\n",
       "0         3       51     3      0          1          0  2200\n",
       "1         1       30     1      0          1          0  1600\n",
       "2         2       45     2      0          1          0  1900\n",
       "3         3       55     1      0          1          0  2000\n",
       "4         1       45     3      1          0          0  4500\n",
       "5         3      100     3      1          0          0  7000\n",
       "6         2       71     2      1          0          0  5000\n",
       "7         1       31     2      0          0          1  1700\n",
       "8         3       53     5      0          0          1  2100\n",
       "9         1       33     3      0          0          1  1500\n",
       "10        2       43     5      0          0          1  2000"
      ]
     },
     "metadata": {},
     "output_type": "display_data"
    }
   ],
   "source": [
    "# Записать датасет\n",
    "df = pd.DataFrame({\n",
    "    'Комнаты': [3, 1, 2, 3, 1, 3, 2, 1, 3, 1, 2],\n",
    "    'Площадь': [51, 30, 45, 55, 45, 100, 71, 31, 53, 33, 43],\n",
    "    'Этаж': [3, 1, 2, 1, 3, 3, 2, 2, 5, 3, 5],\n",
    "    'Центр': [0, 0, 0, 0, 1, 1, 1, 0, 0, 0, 0],\n",
    "    'Спальный1': [1, 1, 1, 1, 0, 0, 0, 0, 0, 0, 0],\n",
    "    'Спальный2': [0, 0, 0, 0, 0, 0, 0, 1, 1, 1, 1],\n",
    "    'Цена': [2200, 1600, 1900, 2000, 4500, 7000, 5000, 1700, 2100, 1500, 2000]\n",
    "})\n",
    "\n",
    "X = df[['Комнаты', 'Площадь', 'Этаж', 'Центр', 'Спальный1', 'Спальный2']]\n",
    "y = df['Цена']\n",
    "\n",
    "display(df)"
   ]
  },
  {
   "cell_type": "markdown",
   "metadata": {},
   "source": [
    "### Задание 1\n",
    "Написать функцию `multiplication_order(A, B, C)`, которая вернёт строку *\"(AxB)xC\"*, если количество умножений элементов матриц при умножении $(A\\times B)\\times C$ меньше либо равно количеству умножений, если выполнять их в порядке $A\\times (B\\times C)$. В противном случае вернуть строку *\"Ax(BxC)\"*."
   ]
  },
  {
   "cell_type": "code",
   "execution_count": 22,
   "metadata": {},
   "outputs": [
    {
     "name": "stdout",
     "output_type": "stream",
     "text": [
      "(AxB)xC\n"
     ]
    }
   ],
   "source": [
    "def multiplication_order(A, B, C):\n",
    "    # Получить размерность матриц\n",
    "    m, n = A.shape\n",
    "    n, k = B.shape\n",
    "    k, p = C.shape\n",
    "\n",
    "    # В соответствии с формулами матричного умножения вычислить количество операций по перемножению строк и столбцов\n",
    "    # 1. Если (АхВ)хС:\n",
    "    mult_1 = k * n * m + p * k * m\n",
    "    # 2. Если Ах(ВхС):\n",
    "    mult_2 = p * k * n + p * n * m\n",
    "\n",
    "    # Для получения выходного значения сравнить полученные числа\n",
    "    return \"(AxB)xC\" if mult_1 <= mult_2 else \"Ax(BxC)\"\n",
    "\n",
    "# Проверить корректность функции\n",
    "A = np.array([[1, 2]])\n",
    "B = np.array([\n",
    "    [2],\n",
    "    [1]\n",
    "])\n",
    "C = np.array([[5]])\n",
    "print(multiplication_order(A, B, C))\n",
    "# (AxB)xC"
   ]
  },
  {
   "cell_type": "markdown",
   "metadata": {},
   "source": [
    "### Задание 2\n",
    "Написать функцию `best_worst(X, y)`, которая вернёт два числа: `max_corr_idx` (номер признака, наиболее коррелирующего с ценой) и `min_corr_idx` (номер признака, наименее коррелирующего с ценой). Учесть, что корреляция имеет знак, а сила корреляции зависит от абсолютного значения — нужно вернуть наибольший и наименьший признаки по абсолютному значению."
   ]
  },
  {
   "cell_type": "code",
   "execution_count": null,
   "metadata": {},
   "outputs": [
    {
     "name": "stdout",
     "output_type": "stream",
     "text": [
      "(3, 2)\n"
     ]
    }
   ],
   "source": [
    "def best_worst(X, y):\n",
    "    # Вычислить корреляционную матрицу\n",
    "    corr_matrix = np.corrcoef(X, y, rowvar=False)\n",
    "\n",
    "    # По условию задачи нас интересует корреляция признаков с целевым\n",
    "    # Получить элементы последней строки корреляционной матрицы без последнего элемента\n",
    "    corr_coefs = corr_matrix[-1][:-1] \n",
    "    \n",
    "    # Найти минимальный и максимальный индексы\n",
    "    min_corr_idx = np.argmin(np.abs(corr_coefs))\n",
    "    max_corr_idx = np.argmax(np.abs(corr_coefs))\n",
    "\n",
    "    # Перевести np.int64 в int\n",
    "    return int(max_corr_idx), int(min_corr_idx)\n",
    "\n",
    "print(best_worst(X, y))\n",
    "# (3, 2)"
   ]
  },
  {
   "cell_type": "markdown",
   "metadata": {},
   "source": [
    "### Задание 3\n",
    "Написать функцию `corr_rank(X)`, возвращающую одно число — ранг корреляционной матрицы."
   ]
  },
  {
   "cell_type": "code",
   "execution_count": 53,
   "metadata": {},
   "outputs": [
    {
     "name": "stdout",
     "output_type": "stream",
     "text": [
      "5\n"
     ]
    }
   ],
   "source": [
    "def corr_rank(X):\n",
    "    # Вычислить корреляционную матрицу\n",
    "    corr_matrix = np.corrcoef(X, rowvar=False)\n",
    "\n",
    "    # Получить ранг матрицы\n",
    "    return np.linalg.matrix_rank(corr_matrix)\n",
    "\n",
    "print(corr_rank(X))\n",
    "# 5"
   ]
  },
  {
   "cell_type": "markdown",
   "metadata": {},
   "source": [
    "### Задание 4\n",
    "Написать функцию `inverse_matrix(A)`, которая вернёт `None`, если матрица необратима (то есть её определитель по абсолютному значению меньше 0.001), либо вернёт обратную матрицу в виде *numpy*-массива.   \n",
    "**Подсказка:** использовать `np.linalg.inv`."
   ]
  },
  {
   "cell_type": "code",
   "execution_count": null,
   "metadata": {},
   "outputs": [
    {
     "name": "stdout",
     "output_type": "stream",
     "text": [
      "[[-0.33333333  0.66666667]\n",
      " [ 0.66666667 -0.33333333]]\n"
     ]
    }
   ],
   "source": [
    "def inverse_matrix(A):\n",
    "    # Проверить, обратима ли матрица А\n",
    "    # Вернуть None, если детерминант стремится к нулю, иначе обратную матрицу от А\n",
    "    det = np.linalg.det(A)\n",
    "    return None if np.abs(det) < 0.001 else np.linalg.inv(A)\n",
    "\n",
    "A = np.array([\n",
    "    [1, 2],\n",
    "    [2, 1]\n",
    "])\n",
    "print(inverse_matrix(A))\n",
    "# array([[-0.33333333, 0.66666667],[ 0.66666667, -0.33333333]])"
   ]
  },
  {
   "cell_type": "markdown",
   "metadata": {},
   "source": [
    "### Задание 5\n",
    "Написать функцию `fit_model(X, y)`, которая вернёт *numpy*-массив с оптимальными коэффициентами $a$, найденными методом **OLS**:  \n",
    "$a = (X^T X)^{-1} X^T y$"
   ]
  },
  {
   "cell_type": "code",
   "execution_count": 37,
   "metadata": {},
   "outputs": [
    {
     "name": "stdout",
     "output_type": "stream",
     "text": [
      "[-574.12295766   65.33255763  141.80223878 1566.16246224   12.32450391\n",
      " -315.34552489]\n"
     ]
    }
   ],
   "source": [
    "def fit_model(X, y):\n",
    "    # Получить вектор весов модели с помощью МНК (OLS)\n",
    "    w_hat = np.linalg.inv(X.T @ X) @ X.T @ y\n",
    "    return w_hat.to_numpy()\n",
    "\n",
    "print(fit_model(X, y))\n",
    "# [-574.12295766 65.33255763 141.80223878 1566.16246224 12.32450391 -315.34552489]"
   ]
  }
 ],
 "metadata": {
  "kernelspec": {
   "display_name": ".venv",
   "language": "python",
   "name": "python3"
  },
  "language_info": {
   "codemirror_mode": {
    "name": "ipython",
    "version": 3
   },
   "file_extension": ".py",
   "mimetype": "text/x-python",
   "name": "python",
   "nbconvert_exporter": "python",
   "pygments_lexer": "ipython3",
   "version": "3.11.1"
  }
 },
 "nbformat": 4,
 "nbformat_minor": 2
}
