{
 "cells": [
  {
   "cell_type": "code",
   "execution_count": 1,
   "metadata": {},
   "outputs": [],
   "source": [
    "import numpy as np\n",
    "import polars as pl\n",
    "import matplotlib.pyplot as plt\n",
    "import seaborn as sns"
   ]
  },
  {
   "cell_type": "code",
   "execution_count": 219,
   "metadata": {},
   "outputs": [],
   "source": [
    "train_df = pl.read_csv('C:/Users/ludkov-as/repo/train.csv')"
   ]
  },
  {
   "cell_type": "markdown",
   "metadata": {},
   "source": [
    "### **train.csv**\n",
    "- **row_id: ***(int64)***** - ID строки\n",
    "- **timestamp: ***(int64)***** - время в мс между взаимодействием пользователя и первым завершением события от этого пользователя\n",
    "- **user_id: ***(int32)***** - ID пользователя\n",
    "- **content_id: ***(int16)***** - ID взаимодействия пользователя\n",
    "- **content_type_id: ***(int8)***** *0*, - если событие является вопросом, заданным пользователю, *1*, если событием было посещение пользователем лекции\n",
    "- **task_container_id: ***(int16)***** - ID группы вопросов или лекций. Например, пользователь может увидеть три вопроса подряд, прежде чем получить объяснения для какого-либо из них. Все эти три вопроса будут иметь общий *task_container_id*\n",
    "- **user_answer: ***(int8)***** - ответ пользователя на вопрос, если таковой имеется. *-1* как *null* для лекций\n",
    "- **answered_correctly: ***(int8)***** - если пользователь ответил правильно. Читать *-1* как *null* для лекций\n",
    "- **prior_question_elapsed_time: ***(float32)***** - Среднее время в мс, которое потребовалось пользователю для ответа на каждый вопрос в предыдущей группе вопросов, игнорируя любые лекции между ними. Имеет значение *null* для первой группы вопросов или лекции пользователя. Обратите внимание, что время — это среднее время, которое потребовалось пользователю для решения каждого вопроса в предыдущей группе\n",
    "- **prior_question_had_explanation: ***(bool)***** - Увидел ли пользователь объяснение и правильный ответ после ответа на предыдущую группу вопросов, игнорируя любые лекции между ними. Значение является общим для одной группы вопросов и имеет значение *null* для первой группы вопросов или лекции пользователя. Обычно первые несколько вопросов, которые видит пользователь, являются частью диагностического теста при вступлении, в ходе которого он не получал никакой обратной связи"
   ]
  },
  {
   "cell_type": "code",
   "execution_count": 220,
   "metadata": {},
   "outputs": [],
   "source": [
    "# По умолчанию polars присваивает всем столбцам с числовыми значениями типы int64 и float64, \n",
    "# поэтому для экономии памяти скорректируем типы в соответствии с вышеприведённым описанием столбцов\n",
    "train_df = train_df.cast({\n",
    "    \"user_id\": pl.Int32,\n",
    "    \"content_id\": pl.Int16,\n",
    "    \"content_type_id\": pl.Int8,\n",
    "    \"task_container_id\": pl.Int16,\n",
    "    \"user_answer\": pl.Int8,\n",
    "    \"answered_correctly\": pl.Int8,\n",
    "    \"prior_question_elapsed_time\": pl.Float32\n",
    "})"
   ]
  },
  {
   "cell_type": "code",
   "execution_count": null,
   "metadata": {},
   "outputs": [],
   "source": [
    "# Заполним отсутствующие значения\n",
    "train_df = train_df.fill_null(0).fill_null(False)"
   ]
  },
  {
   "cell_type": "code",
   "execution_count": 382,
   "metadata": {},
   "outputs": [
    {
     "data": {
      "text/html": [
       "<div><style>\n",
       ".dataframe > thead > tr,\n",
       ".dataframe > tbody > tr {\n",
       "  text-align: right;\n",
       "  white-space: pre-wrap;\n",
       "}\n",
       "</style>\n",
       "<small>shape: (101_230_332, 10)</small><table border=\"1\" class=\"dataframe\"><thead><tr><th>row_id</th><th>timestamp</th><th>user_id</th><th>content_id</th><th>content_type_id</th><th>task_container_id</th><th>user_answer</th><th>answered_correctly</th><th>prior_question_elapsed_time</th><th>prior_question_had_explanation</th></tr><tr><td>i64</td><td>i64</td><td>i32</td><td>i16</td><td>i8</td><td>i16</td><td>i8</td><td>i8</td><td>f32</td><td>bool</td></tr></thead><tbody><tr><td>0</td><td>0</td><td>115</td><td>5692</td><td>0</td><td>1</td><td>3</td><td>1</td><td>0.0</td><td>false</td></tr><tr><td>1</td><td>56943</td><td>115</td><td>5716</td><td>0</td><td>2</td><td>2</td><td>1</td><td>37000.0</td><td>false</td></tr><tr><td>2</td><td>118363</td><td>115</td><td>128</td><td>0</td><td>0</td><td>0</td><td>1</td><td>55000.0</td><td>false</td></tr><tr><td>3</td><td>131167</td><td>115</td><td>7860</td><td>0</td><td>3</td><td>0</td><td>1</td><td>19000.0</td><td>false</td></tr><tr><td>4</td><td>137965</td><td>115</td><td>7922</td><td>0</td><td>4</td><td>1</td><td>1</td><td>11000.0</td><td>false</td></tr><tr><td>&hellip;</td><td>&hellip;</td><td>&hellip;</td><td>&hellip;</td><td>&hellip;</td><td>&hellip;</td><td>&hellip;</td><td>&hellip;</td><td>&hellip;</td><td>&hellip;</td></tr><tr><td>101230327</td><td>428564420</td><td>2147482888</td><td>3586</td><td>0</td><td>22</td><td>0</td><td>1</td><td>18000.0</td><td>true</td></tr><tr><td>101230328</td><td>428585000</td><td>2147482888</td><td>6341</td><td>0</td><td>23</td><td>3</td><td>1</td><td>14000.0</td><td>true</td></tr><tr><td>101230329</td><td>428613475</td><td>2147482888</td><td>4212</td><td>0</td><td>24</td><td>3</td><td>1</td><td>14000.0</td><td>true</td></tr><tr><td>101230330</td><td>428649406</td><td>2147482888</td><td>6343</td><td>0</td><td>25</td><td>1</td><td>0</td><td>22000.0</td><td>true</td></tr><tr><td>101230331</td><td>428692118</td><td>2147482888</td><td>7995</td><td>0</td><td>26</td><td>3</td><td>1</td><td>29000.0</td><td>true</td></tr></tbody></table></div>"
      ],
      "text/plain": [
       "shape: (101_230_332, 10)\n",
       "┌───────────┬───────────┬───────────┬───────────┬───┬───────────┬───────────┬───────────┬──────────┐\n",
       "│ row_id    ┆ timestamp ┆ user_id   ┆ content_i ┆ … ┆ user_answ ┆ answered_ ┆ prior_que ┆ prior_qu │\n",
       "│ ---       ┆ ---       ┆ ---       ┆ d         ┆   ┆ er        ┆ correctly ┆ stion_ela ┆ estion_h │\n",
       "│ i64       ┆ i64       ┆ i32       ┆ ---       ┆   ┆ ---       ┆ ---       ┆ psed_time ┆ ad_expla │\n",
       "│           ┆           ┆           ┆ i16       ┆   ┆ i8        ┆ i8        ┆ ---       ┆ nation   │\n",
       "│           ┆           ┆           ┆           ┆   ┆           ┆           ┆ f32       ┆ ---      │\n",
       "│           ┆           ┆           ┆           ┆   ┆           ┆           ┆           ┆ bool     │\n",
       "╞═══════════╪═══════════╪═══════════╪═══════════╪═══╪═══════════╪═══════════╪═══════════╪══════════╡\n",
       "│ 0         ┆ 0         ┆ 115       ┆ 5692      ┆ … ┆ 3         ┆ 1         ┆ 0.0       ┆ false    │\n",
       "│ 1         ┆ 56943     ┆ 115       ┆ 5716      ┆ … ┆ 2         ┆ 1         ┆ 37000.0   ┆ false    │\n",
       "│ 2         ┆ 118363    ┆ 115       ┆ 128       ┆ … ┆ 0         ┆ 1         ┆ 55000.0   ┆ false    │\n",
       "│ 3         ┆ 131167    ┆ 115       ┆ 7860      ┆ … ┆ 0         ┆ 1         ┆ 19000.0   ┆ false    │\n",
       "│ 4         ┆ 137965    ┆ 115       ┆ 7922      ┆ … ┆ 1         ┆ 1         ┆ 11000.0   ┆ false    │\n",
       "│ …         ┆ …         ┆ …         ┆ …         ┆ … ┆ …         ┆ …         ┆ …         ┆ …        │\n",
       "│ 101230327 ┆ 428564420 ┆ 214748288 ┆ 3586      ┆ … ┆ 0         ┆ 1         ┆ 18000.0   ┆ true     │\n",
       "│           ┆           ┆ 8         ┆           ┆   ┆           ┆           ┆           ┆          │\n",
       "│ 101230328 ┆ 428585000 ┆ 214748288 ┆ 6341      ┆ … ┆ 3         ┆ 1         ┆ 14000.0   ┆ true     │\n",
       "│           ┆           ┆ 8         ┆           ┆   ┆           ┆           ┆           ┆          │\n",
       "│ 101230329 ┆ 428613475 ┆ 214748288 ┆ 4212      ┆ … ┆ 3         ┆ 1         ┆ 14000.0   ┆ true     │\n",
       "│           ┆           ┆ 8         ┆           ┆   ┆           ┆           ┆           ┆          │\n",
       "│ 101230330 ┆ 428649406 ┆ 214748288 ┆ 6343      ┆ … ┆ 1         ┆ 0         ┆ 22000.0   ┆ true     │\n",
       "│           ┆           ┆ 8         ┆           ┆   ┆           ┆           ┆           ┆          │\n",
       "│ 101230331 ┆ 428692118 ┆ 214748288 ┆ 7995      ┆ … ┆ 3         ┆ 1         ┆ 29000.0   ┆ true     │\n",
       "│           ┆           ┆ 8         ┆           ┆   ┆           ┆           ┆           ┆          │\n",
       "└───────────┴───────────┴───────────┴───────────┴───┴───────────┴───────────┴───────────┴──────────┘"
      ]
     },
     "execution_count": 382,
     "metadata": {},
     "output_type": "execute_result"
    }
   ],
   "source": [
    "# Отобразить часть датасета\n",
    "train_df"
   ]
  },
  {
   "cell_type": "code",
   "execution_count": 224,
   "metadata": {},
   "outputs": [
    {
     "data": {
      "text/plain": [
       "101230332"
      ]
     },
     "execution_count": 224,
     "metadata": {},
     "output_type": "execute_result"
    }
   ],
   "source": [
    "# Получить число строк\n",
    "train_df_rows = train_df.shape[0]\n",
    "train_df_rows"
   ]
  },
  {
   "cell_type": "markdown",
   "metadata": {},
   "source": [
    "- #### **content_type_id**. Проверка корректности данных и анализ связей со столбцами user_answer и answered_correctly"
   ]
  },
  {
   "cell_type": "code",
   "execution_count": null,
   "metadata": {},
   "outputs": [
    {
     "data": {
      "text/plain": [
       "[0, 1]"
      ]
     },
     "execution_count": 17,
     "metadata": {},
     "output_type": "execute_result"
    }
   ],
   "source": [
    "# Проверим уникальные значения столбца content_type_id\n",
    "# В соответствии с описанием в столбце должны присутствовать только значения 0 и 1\n",
    "list(train_df.unique(subset='content_type_id')['content_type_id'])"
   ]
  },
  {
   "cell_type": "code",
   "execution_count": 171,
   "metadata": {},
   "outputs": [
    {
     "name": "stdout",
     "output_type": "stream",
     "text": [
      "Количество вопросов/лекций в столбце content_type_id: 99271300 / 1959032\n",
      "Процент вопросов от общего числа строк: 0.9806477765972357\n"
     ]
    },
    {
     "data": {
      "image/png": "[encoded data removed]",
      "text/plain": [
       "<Figure size 1200x30 with 1 Axes>"
      ]
     },
     "metadata": {},
     "output_type": "display_data"
    }
   ],
   "source": [
    "# Получим количество вопросов и лекций из общего числа строк столбца content_type_id\n",
    "questions_num = train_df.filter(pl.col('content_type_id') == 0).shape[0]\n",
    "questions_f = questions_num / train_df.shape[0]\n",
    "print(f\"Количество вопросов/лекций в столбце content_type_id: {questions_num} / {train_df_rows - questions_num}\\nПроцент вопросов от общего числа строк: {questions_f}\")\n",
    "\n",
    "# Построим график процентного соотношения\n",
    "prop1 = 100 * questions_num / (questions_num + (train_df_rows - questions_num))\n",
    "prop2 = 100 * (train_df_rows - questions_num) / (questions_num + (train_df_rows - questions_num))\n",
    "\n",
    "fig, ax = plt.subplots()\n",
    "ax.barh(y=0, width=prop1, left=0)\n",
    "ax.barh(y=0, width=prop2, left=prop1)\n",
    "\n",
    "fig.set_size_inches(12, 0.3)\n",
    "ax.yaxis.set_visible(False)\n",
    "ax.set_xticks(np.linspace(0, 100, 11))\n",
    "ax.set_xlabel('Процентное соотношение вопросов/лекций')\n",
    "\n",
    "plt.show()"
   ]
  },
  {
   "cell_type": "code",
   "execution_count": 11,
   "metadata": {},
   "outputs": [
    {
     "data": {
      "text/plain": [
       "0"
      ]
     },
     "execution_count": 11,
     "metadata": {},
     "output_type": "execute_result"
    }
   ],
   "source": [
    "# Проверим наличие ошибочных данных:\n",
    "# существуют ли для вопросов из столбца content_type_id значения для лекций в столбце user_answer\n",
    "train_df.filter((pl.col('content_type_id') == 0) & (pl.col('user_answer') == -1)).shape[0]"
   ]
  },
  {
   "cell_type": "code",
   "execution_count": 12,
   "metadata": {},
   "outputs": [
    {
     "data": {
      "text/plain": [
       "0"
      ]
     },
     "execution_count": 12,
     "metadata": {},
     "output_type": "execute_result"
    }
   ],
   "source": [
    "# Аналогичным образом проверим значения столбца answered_correctly\n",
    "train_df.filter((pl.col('content_type_id') == 0) & (pl.col('answered_correctly') == -1)).shape[0]"
   ]
  },
  {
   "cell_type": "code",
   "execution_count": 203,
   "metadata": {},
   "outputs": [
    {
     "data": {
      "text/html": [
       "<div><style>\n",
       ".dataframe > thead > tr,\n",
       ".dataframe > tbody > tr {\n",
       "  text-align: right;\n",
       "  white-space: pre-wrap;\n",
       "}\n",
       "</style>\n",
       "<small>shape: (5, 10)</small><table border=\"1\" class=\"dataframe\"><thead><tr><th>row_id</th><th>timestamp</th><th>user_id</th><th>content_id</th><th>content_type_id</th><th>task_container_id</th><th>user_answer</th><th>answered_correctly</th><th>prior_question_elapsed_time</th><th>prior_question_had_explanation</th></tr><tr><td>i64</td><td>i64</td><td>i32</td><td>i16</td><td>i8</td><td>i16</td><td>i8</td><td>i8</td><td>f32</td><td>bool</td></tr></thead><tbody><tr><td>0</td><td>0</td><td>115</td><td>5692</td><td>0</td><td>1</td><td>3</td><td>1</td><td>0.0</td><td>null</td></tr><tr><td>1</td><td>56943</td><td>115</td><td>5716</td><td>0</td><td>2</td><td>2</td><td>1</td><td>37000.0</td><td>false</td></tr><tr><td>2</td><td>118363</td><td>115</td><td>128</td><td>0</td><td>0</td><td>0</td><td>1</td><td>55000.0</td><td>false</td></tr><tr><td>3</td><td>131167</td><td>115</td><td>7860</td><td>0</td><td>3</td><td>0</td><td>1</td><td>19000.0</td><td>false</td></tr><tr><td>4</td><td>137965</td><td>115</td><td>7922</td><td>0</td><td>4</td><td>1</td><td>1</td><td>11000.0</td><td>false</td></tr></tbody></table></div>"
      ],
      "text/plain": [
       "shape: (5, 10)\n",
       "┌────────┬───────────┬─────────┬────────────┬───┬────────────┬────────────┬────────────┬───────────┐\n",
       "│ row_id ┆ timestamp ┆ user_id ┆ content_id ┆ … ┆ user_answe ┆ answered_c ┆ prior_ques ┆ prior_que │\n",
       "│ ---    ┆ ---       ┆ ---     ┆ ---        ┆   ┆ r          ┆ orrectly   ┆ tion_elaps ┆ stion_had │\n",
       "│ i64    ┆ i64       ┆ i32     ┆ i16        ┆   ┆ ---        ┆ ---        ┆ ed_time    ┆ _explanat │\n",
       "│        ┆           ┆         ┆            ┆   ┆ i8         ┆ i8         ┆ ---        ┆ ion       │\n",
       "│        ┆           ┆         ┆            ┆   ┆            ┆            ┆ f32        ┆ ---       │\n",
       "│        ┆           ┆         ┆            ┆   ┆            ┆            ┆            ┆ bool      │\n",
       "╞════════╪═══════════╪═════════╪════════════╪═══╪════════════╪════════════╪════════════╪═══════════╡\n",
       "│ 0      ┆ 0         ┆ 115     ┆ 5692       ┆ … ┆ 3          ┆ 1          ┆ 0.0        ┆ null      │\n",
       "│ 1      ┆ 56943     ┆ 115     ┆ 5716       ┆ … ┆ 2          ┆ 1          ┆ 37000.0    ┆ false     │\n",
       "│ 2      ┆ 118363    ┆ 115     ┆ 128        ┆ … ┆ 0          ┆ 1          ┆ 55000.0    ┆ false     │\n",
       "│ 3      ┆ 131167    ┆ 115     ┆ 7860       ┆ … ┆ 0          ┆ 1          ┆ 19000.0    ┆ false     │\n",
       "│ 4      ┆ 137965    ┆ 115     ┆ 7922       ┆ … ┆ 1          ┆ 1          ┆ 11000.0    ┆ false     │\n",
       "└────────┴───────────┴─────────┴────────────┴───┴────────────┴────────────┴────────────┴───────────┘"
      ]
     },
     "metadata": {},
     "output_type": "display_data"
    },
    {
     "data": {
      "text/html": [
       "<div><style>\n",
       ".dataframe > thead > tr,\n",
       ".dataframe > tbody > tr {\n",
       "  text-align: right;\n",
       "  white-space: pre-wrap;\n",
       "}\n",
       "</style>\n",
       "<small>shape: (5, 10)</small><table border=\"1\" class=\"dataframe\"><thead><tr><th>row_id</th><th>timestamp</th><th>user_id</th><th>content_id</th><th>content_type_id</th><th>task_container_id</th><th>user_answer</th><th>answered_correctly</th><th>prior_question_elapsed_time</th><th>prior_question_had_explanation</th></tr><tr><td>i64</td><td>i64</td><td>i32</td><td>i16</td><td>i8</td><td>i16</td><td>i8</td><td>i8</td><td>f32</td><td>bool</td></tr></thead><tbody><tr><td>89</td><td>653762</td><td>2746</td><td>6808</td><td>1</td><td>14</td><td>-1</td><td>-1</td><td>0.0</td><td>false</td></tr><tr><td>117</td><td>10183847</td><td>5382</td><td>16736</td><td>1</td><td>21</td><td>-1</td><td>-1</td><td>0.0</td><td>false</td></tr><tr><td>212</td><td>1424348597</td><td>5382</td><td>30207</td><td>1</td><td>104</td><td>-1</td><td>-1</td><td>0.0</td><td>false</td></tr><tr><td>216</td><td>1425557777</td><td>5382</td><td>18545</td><td>1</td><td>121</td><td>-1</td><td>-1</td><td>0.0</td><td>false</td></tr><tr><td>295</td><td>405813029</td><td>8623</td><td>10540</td><td>1</td><td>59</td><td>-1</td><td>-1</td><td>0.0</td><td>false</td></tr></tbody></table></div>"
      ],
      "text/plain": [
       "shape: (5, 10)\n",
       "┌────────┬────────────┬─────────┬────────────┬───┬────────────┬────────────┬───────────┬───────────┐\n",
       "│ row_id ┆ timestamp  ┆ user_id ┆ content_id ┆ … ┆ user_answe ┆ answered_c ┆ prior_que ┆ prior_que │\n",
       "│ ---    ┆ ---        ┆ ---     ┆ ---        ┆   ┆ r          ┆ orrectly   ┆ stion_ela ┆ stion_had │\n",
       "│ i64    ┆ i64        ┆ i32     ┆ i16        ┆   ┆ ---        ┆ ---        ┆ psed_time ┆ _explanat │\n",
       "│        ┆            ┆         ┆            ┆   ┆ i8         ┆ i8         ┆ ---       ┆ ion       │\n",
       "│        ┆            ┆         ┆            ┆   ┆            ┆            ┆ f32       ┆ ---       │\n",
       "│        ┆            ┆         ┆            ┆   ┆            ┆            ┆           ┆ bool      │\n",
       "╞════════╪════════════╪═════════╪════════════╪═══╪════════════╪════════════╪═══════════╪═══════════╡\n",
       "│ 89     ┆ 653762     ┆ 2746    ┆ 6808       ┆ … ┆ -1         ┆ -1         ┆ 0.0       ┆ false     │\n",
       "│ 117    ┆ 10183847   ┆ 5382    ┆ 16736      ┆ … ┆ -1         ┆ -1         ┆ 0.0       ┆ false     │\n",
       "│ 212    ┆ 1424348597 ┆ 5382    ┆ 30207      ┆ … ┆ -1         ┆ -1         ┆ 0.0       ┆ false     │\n",
       "│ 216    ┆ 1425557777 ┆ 5382    ┆ 18545      ┆ … ┆ -1         ┆ -1         ┆ 0.0       ┆ false     │\n",
       "│ 295    ┆ 405813029  ┆ 8623    ┆ 10540      ┆ … ┆ -1         ┆ -1         ┆ 0.0       ┆ false     │\n",
       "└────────┴────────────┴─────────┴────────────┴───┴────────────┴────────────┴───────────┴───────────┘"
      ]
     },
     "metadata": {},
     "output_type": "display_data"
    }
   ],
   "source": [
    "# Дополнительно выведем несколько строк таблицы с обоими возможными типами данных столбца для удобства дальнейшего анализа\n",
    "display(train_df.filter(pl.col('content_type_id') == 0).head(5))\n",
    "display(train_df.filter(pl.col('content_type_id') == 1).head(5))"
   ]
  },
  {
   "cell_type": "markdown",
   "metadata": {},
   "source": [
    "- #### **task_container_id**. Анализ количества групп, соотношение вопросов и лекций"
   ]
  },
  {
   "cell_type": "code",
   "execution_count": 59,
   "metadata": {},
   "outputs": [
    {
     "data": {
      "text/plain": [
       "10000"
      ]
     },
     "execution_count": 59,
     "metadata": {},
     "output_type": "execute_result"
    }
   ],
   "source": [
    "# Для начала получим общее количество существующих групп вопросов/лекций\n",
    "groups_num = train_df.unique(subset='task_container_id')['task_container_id'].shape[0]\n",
    "groups_num"
   ]
  },
  {
   "cell_type": "code",
   "execution_count": 66,
   "metadata": {},
   "outputs": [
    {
     "name": "stdout",
     "output_type": "stream",
     "text": [
      "Среднее соотношение вопросов/лекций в рамках одной группы: 9927/196\n",
      "Среднее процентное соотношение: 0.9927/0.0196\n"
     ]
    }
   ],
   "source": [
    "# Определим среднее соотношение вопросов и лекций в рамках одной группы\n",
    "# Для этого используем ранее полученный процент вопросов в рамках всего датасета\n",
    "questions_num_group = round((train_df_rows / groups_num) * questions_f)\n",
    "lectures_num_group = round((train_df_rows / groups_num) * (1 - questions_f))\n",
    "print(f\"Среднее соотношение вопросов/лекций в рамках одной группы: {questions_num_group}/{lectures_num_group}\")\n",
    "print(f\"Среднее процентное соотношение: {questions_num_group/groups_num}/{lectures_num_group/groups_num}\")"
   ]
  },
  {
   "cell_type": "markdown",
   "metadata": {},
   "source": [
    "- #### **answered_correctly**. Процент корректных ответов на вопросы от их общего числа"
   ]
  },
  {
   "cell_type": "code",
   "execution_count": 54,
   "metadata": {},
   "outputs": [
    {
     "data": {
      "text/plain": [
       "0.6572355454194717"
      ]
     },
     "execution_count": 54,
     "metadata": {},
     "output_type": "execute_result"
    }
   ],
   "source": [
    "# Получим процентое сооотношение правильно отвеченных вопросов от общего числа вопросов в датасете\n",
    "correct_answers = train_df.filter(pl.col('answered_correctly') == 1).shape[0]\n",
    "correct_answers / questions_num"
   ]
  },
  {
   "cell_type": "markdown",
   "metadata": {},
   "source": [
    "- #### **prior_question_elapsed_time**. Среднее время ответа на вопрос, график распределения"
   ]
  },
  {
   "cell_type": "code",
   "execution_count": 7,
   "metadata": {},
   "outputs": [
    {
     "data": {
      "text/html": [
       "<div><style>\n",
       ".dataframe > thead > tr,\n",
       ".dataframe > tbody > tr {\n",
       "  text-align: right;\n",
       "  white-space: pre-wrap;\n",
       "}\n",
       "</style>\n",
       "<small>shape: (1, 1)</small><table border=\"1\" class=\"dataframe\"><thead><tr><th>prior_question_elapsed_time</th></tr><tr><td>f32</td></tr></thead><tbody><tr><td>25423.810547</td></tr></tbody></table></div>"
      ],
      "text/plain": [
       "shape: (1, 1)\n",
       "┌─────────────────────────────┐\n",
       "│ prior_question_elapsed_time │\n",
       "│ ---                         │\n",
       "│ f32                         │\n",
       "╞═════════════════════════════╡\n",
       "│ 25423.810547                │\n",
       "└─────────────────────────────┘"
      ]
     },
     "execution_count": 7,
     "metadata": {},
     "output_type": "execute_result"
    }
   ],
   "source": [
    "# Получим среднее время, затраченное пользователем на ответ\n",
    "train_df.select(pl.col('prior_question_elapsed_time')).mean()"
   ]
  },
  {
   "cell_type": "code",
   "execution_count": 6,
   "metadata": {},
   "outputs": [
    {
     "data": {
      "image/png": "[encoded data removed]",
      "text/plain": [
       "<Figure size 1000x500 with 1 Axes>"
      ]
     },
     "metadata": {},
     "output_type": "display_data"
    }
   ],
   "source": [
    "# Построим график распределения затраченного на ответы времени\n",
    "plt.figure(figsize=(10, 5))\n",
    "plt.title(\"Распределение затраченного на ответы времени\")\n",
    "sns.histplot(\n",
    "    data=train_df.select('prior_question_elapsed_time'),\n",
    "    x=\"prior_question_elapsed_time\",\n",
    "    bins=70,\n",
    "    color=\"darkred\" \n",
    ")\n",
    "plt.show()"
   ]
  },
  {
   "cell_type": "markdown",
   "metadata": {},
   "source": [
    "- #### **prior_question_elapsed_time**. Распределение успешности ответов от затраченного на них времени"
   ]
  },
  {
   "cell_type": "code",
   "execution_count": null,
   "metadata": {},
   "outputs": [
    {
     "data": {
      "image/png": "[encoded data removed]",
      "text/plain": [
       "<Figure size 1000x500 with 1 Axes>"
      ]
     },
     "metadata": {},
     "output_type": "display_data"
    }
   ],
   "source": [
    "# Построим график распределения answered_correctly в зависимости от prior_question_elapsed_time\n",
    "plt.figure(figsize=(10, 5))\n",
    "plt.title(\"Распределение успешности ответов в зависимости от затраченного на них времени\")\n",
    "sns.histplot(\n",
    "    data=train_df.filter(pl.col('answered_correctly') != -1).select(['prior_question_elapsed_time', 'answered_correctly']),\n",
    "    x=\"prior_question_elapsed_time\",\n",
    "    bins=70,\n",
    "    hue=\"answered_correctly\" \n",
    ")\n",
    "plt.show()"
   ]
  },
  {
   "cell_type": "markdown",
   "metadata": {},
   "source": [
    "- #### **prior_question_had_explanation**. Влияние посещения лекций на правильность ответов"
   ]
  },
  {
   "cell_type": "markdown",
   "metadata": {},
   "source": [
    "Построим две гистограммы. Получим общее число правильных ответов на все вопросы в двух фильтрациях - при посещении не непосещении лекций. "
   ]
  },
  {
   "cell_type": "code",
   "execution_count": 18,
   "metadata": {},
   "outputs": [
    {
     "name": "stdout",
     "output_type": "stream",
     "text": [
      "Процент правильных ответов: 4.6361828645338585\n"
     ]
    },
    {
     "data": {
      "image/png": "[encoded data removed]",
      "text/plain": [
       "<Figure size 1200x30 with 1 Axes>"
      ]
     },
     "metadata": {},
     "output_type": "display_data"
    }
   ],
   "source": [
    "# Общее число правильных ответов, если лекции не посещались\n",
    "correct_ans_without_explain = train_df.filter((pl.col('prior_question_had_explanation') == False) & (pl.col('answered_correctly') == 1)).shape[0]\n",
    "\n",
    "# Построим график процентного соотношения\n",
    "prop1 = 100 * correct_ans_without_explain / (correct_ans_without_explain + (questions_num - correct_ans_without_explain))\n",
    "prop2 = 100 * (questions_num - correct_ans_without_explain) / (correct_ans_without_explain + (questions_num - correct_ans_without_explain))\n",
    "\n",
    "print(f\"Процент правильных ответов: {prop1}\")\n",
    "\n",
    "fig, ax = plt.subplots()\n",
    "plt.title(\"Соотношение правильных и неправильных ответов (лекции не посещались)\")\n",
    "ax.barh(y=0, width=prop1, left=0)\n",
    "ax.barh(y=0, width=prop2, left=prop1)\n",
    "fig.set_size_inches(12, 0.3)\n",
    "ax.yaxis.set_visible(False)\n",
    "ax.set_xticks(np.linspace(0, 100, 11))\n",
    "plt.show()"
   ]
  },
  {
   "cell_type": "code",
   "execution_count": 17,
   "metadata": {},
   "outputs": [
    {
     "name": "stdout",
     "output_type": "stream",
     "text": [
      "Процент правильных ответов: 60.81847220697221\n"
     ]
    },
    {
     "data": {
      "image/png": "[encoded data removed]",
      "text/plain": [
       "<Figure size 1200x30 with 1 Axes>"
      ]
     },
     "metadata": {},
     "output_type": "display_data"
    }
   ],
   "source": [
    "# Общее число правильных ответов, если лекции посещались\n",
    "correct_ans_with_explain = train_df.filter((pl.col('prior_question_had_explanation') == True) & (pl.col('answered_correctly') == 1)).shape[0]\n",
    "\n",
    "# Построим график процентного соотношения\n",
    "prop1 = 100 * correct_ans_with_explain / (correct_ans_with_explain + (questions_num - correct_ans_with_explain))\n",
    "prop2 = 100 * (questions_num - correct_ans_with_explain) / (correct_ans_with_explain + (questions_num - correct_ans_with_explain))\n",
    "\n",
    "print(f\"Процент правильных ответов: {prop1}\")\n",
    "\n",
    "fig, ax = plt.subplots()\n",
    "plt.title(\"Соотношение правильных и неправильных ответов (лекции посещались)\")\n",
    "ax.barh(y=0, width=prop1, left=0)\n",
    "ax.barh(y=0, width=prop2, left=prop1)\n",
    "fig.set_size_inches(12, 0.3)\n",
    "ax.yaxis.set_visible(False)\n",
    "ax.set_xticks(np.linspace(0, 100, 11))\n",
    "plt.show()"
   ]
  },
  {
   "cell_type": "markdown",
   "metadata": {},
   "source": [
    "Для определения успеваемости студентов от количества посещённых ими лекций создадим новый датасет **performance_df**:\n",
    "- определим основную группировку по *user_id* и временно укажем столбцу строковый тип данных для суммирования параметров;\n",
    "- изменим значения -1 столбца *answered_correctly* для получения корректной суммы правильных ответов;\n",
    "- создадим новый столбец *questions_num* на основе данных *content_type_id* (лекции не являются ответами на вопросы и не должны попасть в итоговую сумму вопросов);\n",
    "- переименуем *content_type_id* в *lectures_num* (после суммирования этот столбец будет отображать общее число лекций, посещённых студентом);\n",
    "- просуммируем значения столбцов и переопределим типы параметров нового датасета.\n",
    "\n",
    "Включение в новый датасет столбца *prior_question_elapsed_time* позволит соотнести число отвеченных студентом вопросов с суммарным временем на их решение, а параметр *performance* позволит оценить успеваемость каждого студента в отдельности."
   ]
  },
  {
   "cell_type": "code",
   "execution_count": 398,
   "metadata": {},
   "outputs": [],
   "source": [
    "performance_df = train_df.select(['user_id', 'content_type_id', 'answered_correctly', 'prior_question_elapsed_time'])\\\n",
    "    .cast({\"user_id\": pl.String})\\\n",
    "    .with_columns(pl.when(pl.col('answered_correctly') == -1).then(0).otherwise(pl.col('answered_correctly')).alias('answered_correctly'))\\\n",
    "    .with_columns(pl.when(pl.col('content_type_id') == 1).then(0).otherwise(1).alias(\"questions_num\"))\\\n",
    "    .rename({'content_type_id': 'lectures_num'})\\\n",
    "    .group_by('user_id').sum()\\\n",
    "    .with_columns((pl.col('answered_correctly') / pl.col('questions_num')).alias('performance'))\\\n",
    "    .cast({\n",
    "        'user_id': pl.Int64, \n",
    "        'answered_correctly': pl.Int16, \n",
    "        'lectures_num': pl.Int16, \n",
    "        'questions_num': pl.Int16,\n",
    "        'prior_question_elapsed_time': pl.UInt32,\n",
    "        'performance': pl.Float32\n",
    "        })\\\n",
    "    .filter(pl.col('prior_question_elapsed_time') > 0)"
   ]
  },
  {
   "cell_type": "code",
   "execution_count": 400,
   "metadata": {},
   "outputs": [
    {
     "data": {
      "text/html": [
       "<div><style>\n",
       ".dataframe > thead > tr,\n",
       ".dataframe > tbody > tr {\n",
       "  text-align: right;\n",
       "  white-space: pre-wrap;\n",
       "}\n",
       "</style>\n",
       "<small>shape: (393_531, 6)</small><table border=\"1\" class=\"dataframe\"><thead><tr><th>user_id</th><th>lectures_num</th><th>answered_correctly</th><th>prior_question_elapsed_time</th><th>questions_num</th><th>performance</th></tr><tr><td>i64</td><td>i16</td><td>i16</td><td>u32</td><td>i16</td><td>f32</td></tr></thead><tbody><tr><td>253322173</td><td>4</td><td>114</td><td>3498000</td><td>163</td><td>0.699386</td></tr><tr><td>1255408165</td><td>0</td><td>29</td><td>1376000</td><td>55</td><td>0.527273</td></tr><tr><td>1410989961</td><td>0</td><td>15</td><td>343000</td><td>21</td><td>0.714286</td></tr><tr><td>1821377682</td><td>0</td><td>23</td><td>1165000</td><td>40</td><td>0.575</td></tr><tr><td>428434087</td><td>2</td><td>131</td><td>3193000</td><td>185</td><td>0.708108</td></tr><tr><td>&hellip;</td><td>&hellip;</td><td>&hellip;</td><td>&hellip;</td><td>&hellip;</td><td>&hellip;</td></tr><tr><td>1059258706</td><td>0</td><td>6</td><td>673996</td><td>30</td><td>0.2</td></tr><tr><td>642496279</td><td>0</td><td>46</td><td>1518913</td><td>70</td><td>0.657143</td></tr><tr><td>1553769067</td><td>0</td><td>6</td><td>367000</td><td>13</td><td>0.461538</td></tr><tr><td>210095676</td><td>0</td><td>40</td><td>1117079</td><td>60</td><td>0.666667</td></tr><tr><td>1753918007</td><td>20</td><td>188</td><td>7580181</td><td>586</td><td>0.320819</td></tr></tbody></table></div>"
      ],
      "text/plain": [
       "shape: (393_531, 6)\n",
       "┌────────────┬──────────────┬────────────────────┬───────────────────┬───────────────┬─────────────┐\n",
       "│ user_id    ┆ lectures_num ┆ answered_correctly ┆ prior_question_el ┆ questions_num ┆ performance │\n",
       "│ ---        ┆ ---          ┆ ---                ┆ apsed_time        ┆ ---           ┆ ---         │\n",
       "│ i64        ┆ i16          ┆ i16                ┆ ---               ┆ i16           ┆ f32         │\n",
       "│            ┆              ┆                    ┆ u32               ┆               ┆             │\n",
       "╞════════════╪══════════════╪════════════════════╪═══════════════════╪═══════════════╪═════════════╡\n",
       "│ 253322173  ┆ 4            ┆ 114                ┆ 3498000           ┆ 163           ┆ 0.699386    │\n",
       "│ 1255408165 ┆ 0            ┆ 29                 ┆ 1376000           ┆ 55            ┆ 0.527273    │\n",
       "│ 1410989961 ┆ 0            ┆ 15                 ┆ 343000            ┆ 21            ┆ 0.714286    │\n",
       "│ 1821377682 ┆ 0            ┆ 23                 ┆ 1165000           ┆ 40            ┆ 0.575       │\n",
       "│ 428434087  ┆ 2            ┆ 131                ┆ 3193000           ┆ 185           ┆ 0.708108    │\n",
       "│ …          ┆ …            ┆ …                  ┆ …                 ┆ …             ┆ …           │\n",
       "│ 1059258706 ┆ 0            ┆ 6                  ┆ 673996            ┆ 30            ┆ 0.2         │\n",
       "│ 642496279  ┆ 0            ┆ 46                 ┆ 1518913           ┆ 70            ┆ 0.657143    │\n",
       "│ 1553769067 ┆ 0            ┆ 6                  ┆ 367000            ┆ 13            ┆ 0.461538    │\n",
       "│ 210095676  ┆ 0            ┆ 40                 ┆ 1117079           ┆ 60            ┆ 0.666667    │\n",
       "│ 1753918007 ┆ 20           ┆ 188                ┆ 7580181           ┆ 586           ┆ 0.320819    │\n",
       "└────────────┴──────────────┴────────────────────┴───────────────────┴───────────────┴─────────────┘"
      ]
     },
     "execution_count": 400,
     "metadata": {},
     "output_type": "execute_result"
    }
   ],
   "source": [
    "# Выведем часть полученного датасета\n",
    "performance_df"
   ]
  },
  {
   "cell_type": "markdown",
   "metadata": {},
   "source": [
    "Ранее нами было получено соотношение вопросов и лекций в основном датасете **train_df** в виде переменной *questions_f*. Проверим следующую гипотезу - соотношение средних значений столбцов *questions_num* и *lectures_num* должно соответствовать *questions_f*. "
   ]
  },
  {
   "cell_type": "code",
   "execution_count": 401,
   "metadata": {},
   "outputs": [
    {
     "data": {
      "text/plain": [
       "0.0003820128407296883"
      ]
     },
     "execution_count": 401,
     "metadata": {},
     "output_type": "execute_result"
    }
   ],
   "source": [
    "perf_df_lectures_f, perf_df_questions_f = performance_df.select(['lectures_num', 'questions_num']).mean()\n",
    "abs((perf_df_lectures_f.to_list()[0] / perf_df_questions_f.to_list()[0]) - (1 - questions_f))"
   ]
  },
  {
   "cell_type": "markdown",
   "metadata": {},
   "source": [
    "Погрешность полученного значения невелика, поэтому можем считать, что гипотеза верна."
   ]
  },
  {
   "cell_type": "code",
   "execution_count": 402,
   "metadata": {},
   "outputs": [
    {
     "data": {
      "image/png": "[encoded data removed]",
      "text/plain": [
       "<Figure size 1000x500 with 1 Axes>"
      ]
     },
     "metadata": {},
     "output_type": "display_data"
    }
   ],
   "source": [
    "# Построим график зависимости успеваемости студентов (процента правильных ответов) от числа посещённых ими лекций\n",
    "plt.figure(figsize=(10, 5))\n",
    "plt.title(\"Зависимость успеваемости от числа посещённых лекций\")\n",
    "sns.lineplot(\n",
    "    data=performance_df.unique(subset='performance'), \n",
    "    x=\"performance\", \n",
    "    y=\"lectures_num\",\n",
    "    color=\"darkred\",\n",
    "    )\n",
    "plt.xlim(0, 1)\n",
    "plt.xticks(np.arange(0, 1.05, 0.05))\n",
    "plt.show()"
   ]
  },
  {
   "cell_type": "markdown",
   "metadata": {},
   "source": [
    "Для интеграции **train_df** с **questions_df** и **lectures_df** создадим облегчённый датасет **content_expand_df** на базе **train_df**. По аналогии с **performance_df** в нём будут представлены суммарные значения лекций, вопросов и правильных на них ответов, однако первичная фильтрация осуществится по значениям параметра *content_id*, что позволит в дальнейшем объединить данные нескольких таблиц."
   ]
  },
  {
   "cell_type": "code",
   "execution_count": 238,
   "metadata": {},
   "outputs": [],
   "source": [
    "content_expand_df = train_df.select(['content_id', 'content_type_id', 'answered_correctly'])\\\n",
    "    .cast({\"content_id\": pl.String})\\\n",
    "    .with_columns(pl.when(pl.col('answered_correctly') == -1).then(0).otherwise(pl.col('answered_correctly')).alias('answered_correctly'))\\\n",
    "    .with_columns(pl.when(pl.col('content_type_id') == 1).then(0).otherwise(1).alias(\"questions_num\"))\\\n",
    "    .rename({'content_type_id': 'lectures_num'})\\\n",
    "    .group_by('content_id').sum()\\\n",
    "    .with_columns((pl.col('answered_correctly') / pl.col('questions_num')).alias('performance'))\\\n",
    "    .cast({\n",
    "        'content_id': pl.Int16,\n",
    "        'answered_correctly': pl.Int32,\n",
    "        'lectures_num': pl.Int32,\n",
    "        'performance': pl.Float32\n",
    "        })\\\n",
    "    .fill_nan(0)"
   ]
  },
  {
   "cell_type": "code",
   "execution_count": 383,
   "metadata": {},
   "outputs": [
    {
     "data": {
      "text/html": [
       "<div><style>\n",
       ".dataframe > thead > tr,\n",
       ".dataframe > tbody > tr {\n",
       "  text-align: right;\n",
       "  white-space: pre-wrap;\n",
       "}\n",
       "</style>\n",
       "<small>shape: (13_782, 5)</small><table border=\"1\" class=\"dataframe\"><thead><tr><th>content_id</th><th>lectures_num</th><th>answered_correctly</th><th>questions_num</th><th>performance</th></tr><tr><td>i16</td><td>i32</td><td>i32</td><td>i32</td><td>f32</td></tr></thead><tbody><tr><td>0</td><td>0</td><td>6266</td><td>6903</td><td>0.907721</td></tr><tr><td>1</td><td>0</td><td>6589</td><td>7398</td><td>0.890646</td></tr><tr><td>2</td><td>0</td><td>24890</td><td>44905</td><td>0.554281</td></tr><tr><td>3</td><td>0</td><td>17906</td><td>22973</td><td>0.779437</td></tr><tr><td>4</td><td>0</td><td>19461</td><td>31736</td><td>0.613215</td></tr><tr><td>&hellip;</td><td>&hellip;</td><td>&hellip;</td><td>&hellip;</td><td>&hellip;</td></tr><tr><td>32535</td><td>3666</td><td>0</td><td>0</td><td>0.0</td></tr><tr><td>32570</td><td>2910</td><td>0</td><td>0</td><td>0.0</td></tr><tr><td>32604</td><td>4</td><td>0</td><td>0</td><td>0.0</td></tr><tr><td>32625</td><td>8031</td><td>0</td><td>0</td><td>0.0</td></tr><tr><td>32736</td><td>8013</td><td>0</td><td>0</td><td>0.0</td></tr></tbody></table></div>"
      ],
      "text/plain": [
       "shape: (13_782, 5)\n",
       "┌────────────┬──────────────┬────────────────────┬───────────────┬─────────────┐\n",
       "│ content_id ┆ lectures_num ┆ answered_correctly ┆ questions_num ┆ performance │\n",
       "│ ---        ┆ ---          ┆ ---                ┆ ---           ┆ ---         │\n",
       "│ i16        ┆ i32          ┆ i32                ┆ i32           ┆ f32         │\n",
       "╞════════════╪══════════════╪════════════════════╪═══════════════╪═════════════╡\n",
       "│ 0          ┆ 0            ┆ 6266               ┆ 6903          ┆ 0.907721    │\n",
       "│ 1          ┆ 0            ┆ 6589               ┆ 7398          ┆ 0.890646    │\n",
       "│ 2          ┆ 0            ┆ 24890              ┆ 44905         ┆ 0.554281    │\n",
       "│ 3          ┆ 0            ┆ 17906              ┆ 22973         ┆ 0.779437    │\n",
       "│ 4          ┆ 0            ┆ 19461              ┆ 31736         ┆ 0.613215    │\n",
       "│ …          ┆ …            ┆ …                  ┆ …             ┆ …           │\n",
       "│ 32535      ┆ 3666         ┆ 0                  ┆ 0             ┆ 0.0         │\n",
       "│ 32570      ┆ 2910         ┆ 0                  ┆ 0             ┆ 0.0         │\n",
       "│ 32604      ┆ 4            ┆ 0                  ┆ 0             ┆ 0.0         │\n",
       "│ 32625      ┆ 8031         ┆ 0                  ┆ 0             ┆ 0.0         │\n",
       "│ 32736      ┆ 8013         ┆ 0                  ┆ 0             ┆ 0.0         │\n",
       "└────────────┴──────────────┴────────────────────┴───────────────┴─────────────┘"
      ]
     },
     "execution_count": 383,
     "metadata": {},
     "output_type": "execute_result"
    }
   ],
   "source": [
    "# Отобразим часть полученного датасета\n",
    "content_expand_df.sort(by='content_id', descending=False)"
   ]
  },
  {
   "cell_type": "markdown",
   "metadata": {},
   "source": [
    "### **questions.csv**: метаданные для вопросов, заданных пользователям.\n",
    "- **question_id** - внешний ключ для столбца *content_id* обучения/тестирования, когда тип контента — *вопрос (0)*\n",
    "- **bundle_id** - код, для которого вопросы обслуживаются вместе\n",
    "- **correct_answer** - ответ на вопрос. Можно сравнить со столбцом *user_answer* обучения, чтобы проверить, был ли пользователь прав\n",
    "- **part** - соответствующий раздел теста TOEIC\n",
    "- **tags** - один или несколько подробных кодов тегов для вопроса. Значение тегов не будет предоставлено, но этих кодов достаточно для кластеризации вопросов вместе"
   ]
  },
  {
   "cell_type": "code",
   "execution_count": 134,
   "metadata": {},
   "outputs": [],
   "source": [
    "questions_df = pl.read_csv('C:/Users/ludkov-as/repo/questions.csv')"
   ]
  },
  {
   "cell_type": "code",
   "execution_count": null,
   "metadata": {},
   "outputs": [],
   "source": [
    "# Скорректируем типы данных датасета\n",
    "questions_df = questions_df.cast({\n",
    "    \"question_id\": pl.Int16,\n",
    "    \"bundle_id\": pl.Int16,\n",
    "    \"correct_answer\": pl.Int8,\n",
    "    \"part\": pl.Int16\n",
    "})"
   ]
  },
  {
   "cell_type": "code",
   "execution_count": 404,
   "metadata": {},
   "outputs": [
    {
     "data": {
      "text/html": [
       "<div><style>\n",
       ".dataframe > thead > tr,\n",
       ".dataframe > tbody > tr {\n",
       "  text-align: right;\n",
       "  white-space: pre-wrap;\n",
       "}\n",
       "</style>\n",
       "<small>shape: (13_522, 5)</small><table border=\"1\" class=\"dataframe\"><thead><tr><th>question_id</th><th>bundle_id</th><th>correct_answer</th><th>part</th><th>tags</th></tr><tr><td>i16</td><td>i16</td><td>i8</td><td>i16</td><td>str</td></tr></thead><tbody><tr><td>0</td><td>0</td><td>0</td><td>1</td><td>&quot;51 131 162 38&quot;</td></tr><tr><td>1</td><td>1</td><td>1</td><td>1</td><td>&quot;131 36 81&quot;</td></tr><tr><td>2</td><td>2</td><td>0</td><td>1</td><td>&quot;131 101 162 92&quot;</td></tr><tr><td>3</td><td>3</td><td>0</td><td>1</td><td>&quot;131 149 162 29&quot;</td></tr><tr><td>4</td><td>4</td><td>3</td><td>1</td><td>&quot;131 5 162 38&quot;</td></tr><tr><td>&hellip;</td><td>&hellip;</td><td>&hellip;</td><td>&hellip;</td><td>&hellip;</td></tr><tr><td>13518</td><td>13518</td><td>3</td><td>5</td><td>&quot;14&quot;</td></tr><tr><td>13519</td><td>13519</td><td>3</td><td>5</td><td>&quot;8&quot;</td></tr><tr><td>13520</td><td>13520</td><td>2</td><td>5</td><td>&quot;73&quot;</td></tr><tr><td>13521</td><td>13521</td><td>0</td><td>5</td><td>&quot;125&quot;</td></tr><tr><td>13522</td><td>13522</td><td>3</td><td>5</td><td>&quot;55&quot;</td></tr></tbody></table></div>"
      ],
      "text/plain": [
       "shape: (13_522, 5)\n",
       "┌─────────────┬───────────┬────────────────┬──────┬────────────────┐\n",
       "│ question_id ┆ bundle_id ┆ correct_answer ┆ part ┆ tags           │\n",
       "│ ---         ┆ ---       ┆ ---            ┆ ---  ┆ ---            │\n",
       "│ i16         ┆ i16       ┆ i8             ┆ i16  ┆ str            │\n",
       "╞═════════════╪═══════════╪════════════════╪══════╪════════════════╡\n",
       "│ 0           ┆ 0         ┆ 0              ┆ 1    ┆ 51 131 162 38  │\n",
       "│ 1           ┆ 1         ┆ 1              ┆ 1    ┆ 131 36 81      │\n",
       "│ 2           ┆ 2         ┆ 0              ┆ 1    ┆ 131 101 162 92 │\n",
       "│ 3           ┆ 3         ┆ 0              ┆ 1    ┆ 131 149 162 29 │\n",
       "│ 4           ┆ 4         ┆ 3              ┆ 1    ┆ 131 5 162 38   │\n",
       "│ …           ┆ …         ┆ …              ┆ …    ┆ …              │\n",
       "│ 13518       ┆ 13518     ┆ 3              ┆ 5    ┆ 14             │\n",
       "│ 13519       ┆ 13519     ┆ 3              ┆ 5    ┆ 8              │\n",
       "│ 13520       ┆ 13520     ┆ 2              ┆ 5    ┆ 73             │\n",
       "│ 13521       ┆ 13521     ┆ 0              ┆ 5    ┆ 125            │\n",
       "│ 13522       ┆ 13522     ┆ 3              ┆ 5    ┆ 55             │\n",
       "└─────────────┴───────────┴────────────────┴──────┴────────────────┘"
      ]
     },
     "execution_count": 404,
     "metadata": {},
     "output_type": "execute_result"
    }
   ],
   "source": [
    "# Отобразить часть датасета\n",
    "questions_df.drop_nulls()"
   ]
  },
  {
   "cell_type": "code",
   "execution_count": 137,
   "metadata": {},
   "outputs": [
    {
     "data": {
      "text/plain": [
       "[0, 3, 1, 2]"
      ]
     },
     "execution_count": 137,
     "metadata": {},
     "output_type": "execute_result"
    }
   ],
   "source": [
    "# Проверить уникальные значения столбца correct_answer\n",
    "list(questions_df.unique(subset='correct_answer')['correct_answer'])"
   ]
  },
  {
   "cell_type": "code",
   "execution_count": 341,
   "metadata": {},
   "outputs": [
    {
     "data": {
      "text/html": [
       "<div><style>\n",
       ".dataframe > thead > tr,\n",
       ".dataframe > tbody > tr {\n",
       "  text-align: right;\n",
       "  white-space: pre-wrap;\n",
       "}\n",
       "</style>\n",
       "<small>shape: (13_522, 9)</small><table border=\"1\" class=\"dataframe\"><thead><tr><th>content_id</th><th>lectures_num</th><th>answered_correctly</th><th>questions_num</th><th>performance</th><th>bundle_id</th><th>correct_answer</th><th>part</th><th>tags</th></tr><tr><td>i16</td><td>i32</td><td>i32</td><td>i32</td><td>f32</td><td>i16</td><td>i8</td><td>i16</td><td>str</td></tr></thead><tbody><tr><td>3214</td><td>0</td><td>4739</td><td>8759</td><td>0.541044</td><td>3213</td><td>3</td><td>4</td><td>&quot;82 67 81&quot;</td></tr><tr><td>3090</td><td>0</td><td>4098</td><td>5246</td><td>0.781167</td><td>3090</td><td>0</td><td>4</td><td>&quot;74 12 29&quot;</td></tr><tr><td>3587</td><td>0</td><td>1626</td><td>2234</td><td>0.727842</td><td>3587</td><td>1</td><td>5</td><td>&quot;8&quot;</td></tr><tr><td>435</td><td>0</td><td>14582</td><td>17993</td><td>0.810426</td><td>435</td><td>3</td><td>2</td><td>&quot;2 119 38 92&quot;</td></tr><tr><td>9756</td><td>0</td><td>3095</td><td>4422</td><td>0.69991</td><td>9756</td><td>0</td><td>5</td><td>&quot;96&quot;</td></tr><tr><td>&hellip;</td><td>&hellip;</td><td>&hellip;</td><td>&hellip;</td><td>&hellip;</td><td>&hellip;</td><td>&hellip;</td><td>&hellip;</td><td>&hellip;</td></tr><tr><td>11835</td><td>0</td><td>788</td><td>938</td><td>0.840085</td><td>11833</td><td>0</td><td>3</td><td>&quot;157 38 81&quot;</td></tr><tr><td>8003</td><td>0</td><td>4006</td><td>4652</td><td>0.861135</td><td>8003</td><td>3</td><td>5</td><td>&quot;55&quot;</td></tr><tr><td>7132</td><td>0</td><td>535</td><td>604</td><td>0.885762</td><td>7132</td><td>1</td><td>7</td><td>&quot;118 42 21&quot;</td></tr><tr><td>7914</td><td>0</td><td>10052</td><td>12347</td><td>0.814125</td><td>7914</td><td>2</td><td>1</td><td>&quot;51 131 162 29&quot;</td></tr><tr><td>5171</td><td>0</td><td>8996</td><td>10787</td><td>0.833967</td><td>5171</td><td>1</td><td>5</td><td>&quot;48&quot;</td></tr></tbody></table></div>"
      ],
      "text/plain": [
       "shape: (13_522, 9)\n",
       "┌────────────┬────────────┬────────────┬────────────┬───┬───────────┬───────────┬──────┬───────────┐\n",
       "│ content_id ┆ lectures_n ┆ answered_c ┆ questions_ ┆ … ┆ bundle_id ┆ correct_a ┆ part ┆ tags      │\n",
       "│ ---        ┆ um         ┆ orrectly   ┆ num        ┆   ┆ ---       ┆ nswer     ┆ ---  ┆ ---       │\n",
       "│ i16        ┆ ---        ┆ ---        ┆ ---        ┆   ┆ i16       ┆ ---       ┆ i16  ┆ str       │\n",
       "│            ┆ i32        ┆ i32        ┆ i32        ┆   ┆           ┆ i8        ┆      ┆           │\n",
       "╞════════════╪════════════╪════════════╪════════════╪═══╪═══════════╪═══════════╪══════╪═══════════╡\n",
       "│ 3214       ┆ 0          ┆ 4739       ┆ 8759       ┆ … ┆ 3213      ┆ 3         ┆ 4    ┆ 82 67 81  │\n",
       "│ 3090       ┆ 0          ┆ 4098       ┆ 5246       ┆ … ┆ 3090      ┆ 0         ┆ 4    ┆ 74 12 29  │\n",
       "│ 3587       ┆ 0          ┆ 1626       ┆ 2234       ┆ … ┆ 3587      ┆ 1         ┆ 5    ┆ 8         │\n",
       "│ 435        ┆ 0          ┆ 14582      ┆ 17993      ┆ … ┆ 435       ┆ 3         ┆ 2    ┆ 2 119 38  │\n",
       "│            ┆            ┆            ┆            ┆   ┆           ┆           ┆      ┆ 92        │\n",
       "│ 9756       ┆ 0          ┆ 3095       ┆ 4422       ┆ … ┆ 9756      ┆ 0         ┆ 5    ┆ 96        │\n",
       "│ …          ┆ …          ┆ …          ┆ …          ┆ … ┆ …         ┆ …         ┆ …    ┆ …         │\n",
       "│ 11835      ┆ 0          ┆ 788        ┆ 938        ┆ … ┆ 11833     ┆ 0         ┆ 3    ┆ 157 38 81 │\n",
       "│ 8003       ┆ 0          ┆ 4006       ┆ 4652       ┆ … ┆ 8003      ┆ 3         ┆ 5    ┆ 55        │\n",
       "│ 7132       ┆ 0          ┆ 535        ┆ 604        ┆ … ┆ 7132      ┆ 1         ┆ 7    ┆ 118 42 21 │\n",
       "│ 7914       ┆ 0          ┆ 10052      ┆ 12347      ┆ … ┆ 7914      ┆ 2         ┆ 1    ┆ 51 131    │\n",
       "│            ┆            ┆            ┆            ┆   ┆           ┆           ┆      ┆ 162 29    │\n",
       "│ 5171       ┆ 0          ┆ 8996       ┆ 10787      ┆ … ┆ 5171      ┆ 1         ┆ 5    ┆ 48        │\n",
       "└────────────┴────────────┴────────────┴────────────┴───┴───────────┴───────────┴──────┴───────────┘"
      ]
     },
     "execution_count": 341,
     "metadata": {},
     "output_type": "execute_result"
    }
   ],
   "source": [
    "# Объединим content_expand_df и questions_df\n",
    "questions_expand_df = content_expand_df.join(questions_df.rename({'question_id': 'content_id'}), on='content_id', how='inner').drop_nulls()\n",
    "questions_expand_df"
   ]
  },
  {
   "cell_type": "code",
   "execution_count": 380,
   "metadata": {},
   "outputs": [
    {
     "data": {
      "text/html": [
       "<div><style>\n",
       ".dataframe > thead > tr,\n",
       ".dataframe > tbody > tr {\n",
       "  text-align: right;\n",
       "  white-space: pre-wrap;\n",
       "}\n",
       "</style>\n",
       "<small>shape: (5, 2)</small><table border=\"1\" class=\"dataframe\"><thead><tr><th>tags</th><th>performance</th></tr><tr><td>str</td><td>f32</td></tr></thead><tbody><tr><td>&quot;1&quot;</td><td>0.629183</td></tr><tr><td>&quot;1 162&quot;</td><td>0.675019</td></tr><tr><td>&quot;10 111 92&quot;</td><td>0.837507</td></tr><tr><td>&quot;10 164 102&quot;</td><td>0.761476</td></tr><tr><td>&quot;10 164 162 29&quot;</td><td>0.879346</td></tr></tbody></table></div>"
      ],
      "text/plain": [
       "shape: (5, 2)\n",
       "┌───────────────┬─────────────┐\n",
       "│ tags          ┆ performance │\n",
       "│ ---           ┆ ---         │\n",
       "│ str           ┆ f32         │\n",
       "╞═══════════════╪═════════════╡\n",
       "│ 1             ┆ 0.629183    │\n",
       "│ 1 162         ┆ 0.675019    │\n",
       "│ 10 111 92     ┆ 0.837507    │\n",
       "│ 10 164 102    ┆ 0.761476    │\n",
       "│ 10 164 162 29 ┆ 0.879346    │\n",
       "└───────────────┴─────────────┘"
      ]
     },
     "metadata": {},
     "output_type": "display_data"
    },
    {
     "data": {
      "text/html": [
       "<div><style>\n",
       ".dataframe > thead > tr,\n",
       ".dataframe > tbody > tr {\n",
       "  text-align: right;\n",
       "  white-space: pre-wrap;\n",
       "}\n",
       "</style>\n",
       "<small>shape: (5, 2)</small><table border=\"1\" class=\"dataframe\"><thead><tr><th>tags</th><th>questions_num</th></tr><tr><td>str</td><td>i32</td></tr></thead><tbody><tr><td>&quot;1&quot;</td><td>2264097</td></tr><tr><td>&quot;1 162&quot;</td><td>145412</td></tr><tr><td>&quot;10 111 92&quot;</td><td>7188</td></tr><tr><td>&quot;10 164 102&quot;</td><td>18778</td></tr><tr><td>&quot;10 164 162 29&quot;</td><td>12051</td></tr></tbody></table></div>"
      ],
      "text/plain": [
       "shape: (5, 2)\n",
       "┌───────────────┬───────────────┐\n",
       "│ tags          ┆ questions_num │\n",
       "│ ---           ┆ ---           │\n",
       "│ str           ┆ i32           │\n",
       "╞═══════════════╪═══════════════╡\n",
       "│ 1             ┆ 2264097       │\n",
       "│ 1 162         ┆ 145412        │\n",
       "│ 10 111 92     ┆ 7188          │\n",
       "│ 10 164 102    ┆ 18778         │\n",
       "│ 10 164 162 29 ┆ 12051         │\n",
       "└───────────────┴───────────────┘"
      ]
     },
     "metadata": {},
     "output_type": "display_data"
    }
   ],
   "source": [
    "# Проанализируем наличие зависимости средних значений успеваемости и количества вопросов от тегов вопросов\n",
    "display(questions_expand_df.select(['tags', 'performance']).group_by('tags').mean().sort(by='tags', descending=False).head())\n",
    "display(questions_expand_df.select(['tags', 'questions_num']).group_by('tags').sum().sort(by='tags', descending=False).head())"
   ]
  },
  {
   "cell_type": "markdown",
   "metadata": {},
   "source": [
    "Сгруппировав информацию по тегам, можно констатировать отсутствие линейной зависимости значений тегов как от усреднённой успеваемости, так и от общего числа вопросов, соответствующих этим тегам."
   ]
  },
  {
   "cell_type": "code",
   "execution_count": 363,
   "metadata": {},
   "outputs": [
    {
     "data": {
      "text/html": [
       "<div><style>\n",
       ".dataframe > thead > tr,\n",
       ".dataframe > tbody > tr {\n",
       "  text-align: right;\n",
       "  white-space: pre-wrap;\n",
       "}\n",
       "</style>\n",
       "<small>shape: (7, 2)</small><table border=\"1\" class=\"dataframe\"><thead><tr><th>part</th><th>performance</th></tr><tr><td>i16</td><td>f64</td></tr></thead><tbody><tr><td>1</td><td>0.815104</td></tr><tr><td>2</td><td>0.745296</td></tr><tr><td>3</td><td>0.744599</td></tr><tr><td>4</td><td>0.724918</td></tr><tr><td>7</td><td>0.717958</td></tr><tr><td>6</td><td>0.699348</td></tr><tr><td>5</td><td>0.666118</td></tr></tbody></table></div>"
      ],
      "text/plain": [
       "shape: (7, 2)\n",
       "┌──────┬─────────────┐\n",
       "│ part ┆ performance │\n",
       "│ ---  ┆ ---         │\n",
       "│ i16  ┆ f64         │\n",
       "╞══════╪═════════════╡\n",
       "│ 1    ┆ 0.815104    │\n",
       "│ 2    ┆ 0.745296    │\n",
       "│ 3    ┆ 0.744599    │\n",
       "│ 4    ┆ 0.724918    │\n",
       "│ 7    ┆ 0.717958    │\n",
       "│ 6    ┆ 0.699348    │\n",
       "│ 5    ┆ 0.666118    │\n",
       "└──────┴─────────────┘"
      ]
     },
     "execution_count": 363,
     "metadata": {},
     "output_type": "execute_result"
    }
   ],
   "source": [
    "# Определим среднюю успеваемость студентов для каждой группы вопросов (part)\n",
    "# Отсортируем полученные значения в порядке убывания успеваемости\n",
    "questions_expand_df.select(['part', 'performance']).group_by('part').mean().sort(by='performance', descending=True)"
   ]
  },
  {
   "cell_type": "markdown",
   "metadata": {},
   "source": [
    "### **lectures.csv**: метаданные для лекций, просмотренных пользователями по мере их продвижения в образовании.\n",
    "- **lecture_id** - внешний ключ для обучающего/тестового столбца *content_id*, когда тип контента — *lecture (1)*\n",
    "- **part** - код категории верхнего уровня для лекции\n",
    "- **tag** - один код тега для лекции. Значение тегов не будет предоставлено, но этих кодов достаточно для кластеризации лекций вместе\n",
    "- **type_of** - краткое описание основной цели лекции"
   ]
  },
  {
   "cell_type": "code",
   "execution_count": 194,
   "metadata": {},
   "outputs": [],
   "source": [
    "lectures_df = pl.read_csv('C:/Users/ludkov-as/repo/lectures.csv')"
   ]
  },
  {
   "cell_type": "code",
   "execution_count": 195,
   "metadata": {},
   "outputs": [],
   "source": [
    "# Скорректируем типы данных датасета\n",
    "lectures_df = lectures_df.cast({\n",
    "    \"lecture_id\": pl.Int16,\n",
    "    \"tag\": pl.Int16,\n",
    "    \"part\": pl.Int8\n",
    "})"
   ]
  },
  {
   "cell_type": "code",
   "execution_count": 385,
   "metadata": {},
   "outputs": [
    {
     "data": {
      "text/html": [
       "<div><style>\n",
       ".dataframe > thead > tr,\n",
       ".dataframe > tbody > tr {\n",
       "  text-align: right;\n",
       "  white-space: pre-wrap;\n",
       "}\n",
       "</style>\n",
       "<small>shape: (418, 4)</small><table border=\"1\" class=\"dataframe\"><thead><tr><th>lecture_id</th><th>tag</th><th>part</th><th>type_of</th></tr><tr><td>i16</td><td>i16</td><td>i8</td><td>str</td></tr></thead><tbody><tr><td>89</td><td>159</td><td>5</td><td>&quot;concept&quot;</td></tr><tr><td>100</td><td>70</td><td>1</td><td>&quot;concept&quot;</td></tr><tr><td>185</td><td>45</td><td>6</td><td>&quot;concept&quot;</td></tr><tr><td>192</td><td>79</td><td>5</td><td>&quot;solving question&quot;</td></tr><tr><td>317</td><td>156</td><td>5</td><td>&quot;solving question&quot;</td></tr><tr><td>&hellip;</td><td>&hellip;</td><td>&hellip;</td><td>&hellip;</td></tr><tr><td>32535</td><td>8</td><td>5</td><td>&quot;solving question&quot;</td></tr><tr><td>32570</td><td>113</td><td>3</td><td>&quot;solving question&quot;</td></tr><tr><td>32604</td><td>24</td><td>6</td><td>&quot;concept&quot;</td></tr><tr><td>32625</td><td>142</td><td>2</td><td>&quot;concept&quot;</td></tr><tr><td>32736</td><td>82</td><td>3</td><td>&quot;concept&quot;</td></tr></tbody></table></div>"
      ],
      "text/plain": [
       "shape: (418, 4)\n",
       "┌────────────┬─────┬──────┬──────────────────┐\n",
       "│ lecture_id ┆ tag ┆ part ┆ type_of          │\n",
       "│ ---        ┆ --- ┆ ---  ┆ ---              │\n",
       "│ i16        ┆ i16 ┆ i8   ┆ str              │\n",
       "╞════════════╪═════╪══════╪══════════════════╡\n",
       "│ 89         ┆ 159 ┆ 5    ┆ concept          │\n",
       "│ 100        ┆ 70  ┆ 1    ┆ concept          │\n",
       "│ 185        ┆ 45  ┆ 6    ┆ concept          │\n",
       "│ 192        ┆ 79  ┆ 5    ┆ solving question │\n",
       "│ 317        ┆ 156 ┆ 5    ┆ solving question │\n",
       "│ …          ┆ …   ┆ …    ┆ …                │\n",
       "│ 32535      ┆ 8   ┆ 5    ┆ solving question │\n",
       "│ 32570      ┆ 113 ┆ 3    ┆ solving question │\n",
       "│ 32604      ┆ 24  ┆ 6    ┆ concept          │\n",
       "│ 32625      ┆ 142 ┆ 2    ┆ concept          │\n",
       "│ 32736      ┆ 82  ┆ 3    ┆ concept          │\n",
       "└────────────┴─────┴──────┴──────────────────┘"
      ]
     },
     "execution_count": 385,
     "metadata": {},
     "output_type": "execute_result"
    }
   ],
   "source": [
    "# Отобразить часть датасета\n",
    "lectures_df"
   ]
  },
  {
   "cell_type": "code",
   "execution_count": 379,
   "metadata": {},
   "outputs": [
    {
     "data": {
      "text/html": [
       "<div><style>\n",
       ".dataframe > thead > tr,\n",
       ".dataframe > tbody > tr {\n",
       "  text-align: right;\n",
       "  white-space: pre-wrap;\n",
       "}\n",
       "</style>\n",
       "<small>shape: (5, 8)</small><table border=\"1\" class=\"dataframe\"><thead><tr><th>content_id</th><th>lectures_num</th><th>answered_correctly</th><th>questions_num</th><th>performance</th><th>tag</th><th>part</th><th>type_of</th></tr><tr><td>i16</td><td>i32</td><td>i32</td><td>i32</td><td>f32</td><td>i16</td><td>i8</td><td>str</td></tr></thead><tbody><tr><td>22362</td><td>11043</td><td>0</td><td>0</td><td>0.0</td><td>73</td><td>5</td><td>&quot;concept&quot;</td></tr><tr><td>3255</td><td>9703</td><td>2902</td><td>3130</td><td>0.927157</td><td>60</td><td>5</td><td>&quot;concept&quot;</td></tr><tr><td>6948</td><td>828</td><td>1880</td><td>2595</td><td>0.72447</td><td>127</td><td>5</td><td>&quot;solving question&quot;</td></tr><tr><td>89</td><td>10695</td><td>12683</td><td>13773</td><td>0.92086</td><td>159</td><td>5</td><td>&quot;concept&quot;</td></tr><tr><td>32023</td><td>1528</td><td>0</td><td>0</td><td>0.0</td><td>69</td><td>2</td><td>&quot;solving question&quot;</td></tr></tbody></table></div>"
      ],
      "text/plain": [
       "shape: (5, 8)\n",
       "┌────────────┬───────────────┬───────────────┬───────────────┬─────────────┬─────┬──────┬──────────┐\n",
       "│ content_id ┆ lectures_num  ┆ answered_corr ┆ questions_num ┆ performance ┆ tag ┆ part ┆ type_of  │\n",
       "│ ---        ┆ ---           ┆ ectly         ┆ ---           ┆ ---         ┆ --- ┆ ---  ┆ ---      │\n",
       "│ i16        ┆ i32           ┆ ---           ┆ i32           ┆ f32         ┆ i16 ┆ i8   ┆ str      │\n",
       "│            ┆               ┆ i32           ┆               ┆             ┆     ┆      ┆          │\n",
       "╞════════════╪═══════════════╪═══════════════╪═══════════════╪═════════════╪═════╪══════╪══════════╡\n",
       "│ 22362      ┆ 11043         ┆ 0             ┆ 0             ┆ 0.0         ┆ 73  ┆ 5    ┆ concept  │\n",
       "│ 3255       ┆ 9703          ┆ 2902          ┆ 3130          ┆ 0.927157    ┆ 60  ┆ 5    ┆ concept  │\n",
       "│ 6948       ┆ 828           ┆ 1880          ┆ 2595          ┆ 0.72447     ┆ 127 ┆ 5    ┆ solving  │\n",
       "│            ┆               ┆               ┆               ┆             ┆     ┆      ┆ question │\n",
       "│ 89         ┆ 10695         ┆ 12683         ┆ 13773         ┆ 0.92086     ┆ 159 ┆ 5    ┆ concept  │\n",
       "│ 32023      ┆ 1528          ┆ 0             ┆ 0             ┆ 0.0         ┆ 69  ┆ 2    ┆ solving  │\n",
       "│            ┆               ┆               ┆               ┆             ┆     ┆      ┆ question │\n",
       "└────────────┴───────────────┴───────────────┴───────────────┴─────────────┴─────┴──────┴──────────┘"
      ]
     },
     "execution_count": 379,
     "metadata": {},
     "output_type": "execute_result"
    }
   ],
   "source": [
    "# Объединим content_expand_df и lectures_df\n",
    "lectures_expand_df = content_expand_df.join(lectures_df.rename({'lecture_id': 'content_id'}), on='content_id', how='inner').drop_nulls()\n",
    "lectures_expand_df.head()"
   ]
  },
  {
   "cell_type": "code",
   "execution_count": 364,
   "metadata": {},
   "outputs": [
    {
     "data": {
      "text/html": [
       "<div><style>\n",
       ".dataframe > thead > tr,\n",
       ".dataframe > tbody > tr {\n",
       "  text-align: right;\n",
       "  white-space: pre-wrap;\n",
       "}\n",
       "</style>\n",
       "<small>shape: (4, 2)</small><table border=\"1\" class=\"dataframe\"><thead><tr><th>type_of</th><th>performance</th></tr><tr><td>str</td><td>f32</td></tr></thead><tbody><tr><td>&quot;intention&quot;</td><td>0.455434</td></tr><tr><td>&quot;solving question&quot;</td><td>0.269466</td></tr><tr><td>&quot;concept&quot;</td><td>0.261202</td></tr><tr><td>&quot;starter&quot;</td><td>0.181903</td></tr></tbody></table></div>"
      ],
      "text/plain": [
       "shape: (4, 2)\n",
       "┌──────────────────┬─────────────┐\n",
       "│ type_of          ┆ performance │\n",
       "│ ---              ┆ ---         │\n",
       "│ str              ┆ f32         │\n",
       "╞══════════════════╪═════════════╡\n",
       "│ intention        ┆ 0.455434    │\n",
       "│ solving question ┆ 0.269466    │\n",
       "│ concept          ┆ 0.261202    │\n",
       "│ starter          ┆ 0.181903    │\n",
       "└──────────────────┴─────────────┘"
      ]
     },
     "execution_count": 364,
     "metadata": {},
     "output_type": "execute_result"
    }
   ],
   "source": [
    "# Проанализируем среднюю успеваемость студентов по типам лекций (type_of)\n",
    "# Отсортируем полученные значения в порядке убывания успеваемости\n",
    "lectures_expand_df.select(['type_of', 'performance']).group_by('type_of').mean().sort(by='performance', descending=True)"
   ]
  },
  {
   "cell_type": "code",
   "execution_count": 365,
   "metadata": {},
   "outputs": [
    {
     "data": {
      "text/html": [
       "<div><style>\n",
       ".dataframe > thead > tr,\n",
       ".dataframe > tbody > tr {\n",
       "  text-align: right;\n",
       "  white-space: pre-wrap;\n",
       "}\n",
       "</style>\n",
       "<small>shape: (7, 2)</small><table border=\"1\" class=\"dataframe\"><thead><tr><th>part</th><th>performance</th></tr><tr><td>i8</td><td>f32</td></tr></thead><tbody><tr><td>1</td><td>0.300983</td></tr><tr><td>5</td><td>0.300577</td></tr><tr><td>4</td><td>0.269586</td></tr><tr><td>7</td><td>0.268065</td></tr><tr><td>6</td><td>0.231367</td></tr><tr><td>3</td><td>0.22734</td></tr><tr><td>2</td><td>0.216239</td></tr></tbody></table></div>"
      ],
      "text/plain": [
       "shape: (7, 2)\n",
       "┌──────┬─────────────┐\n",
       "│ part ┆ performance │\n",
       "│ ---  ┆ ---         │\n",
       "│ i8   ┆ f32         │\n",
       "╞══════╪═════════════╡\n",
       "│ 1    ┆ 0.300983    │\n",
       "│ 5    ┆ 0.300577    │\n",
       "│ 4    ┆ 0.269586    │\n",
       "│ 7    ┆ 0.268065    │\n",
       "│ 6    ┆ 0.231367    │\n",
       "│ 3    ┆ 0.22734     │\n",
       "│ 2    ┆ 0.216239    │\n",
       "└──────┴─────────────┘"
      ]
     },
     "execution_count": 365,
     "metadata": {},
     "output_type": "execute_result"
    }
   ],
   "source": [
    "# Проанализируем среднюю успеваемость студентов по группам лекций (part)\n",
    "# Отсортируем полученные значения в порядке убывания успеваемости\n",
    "lectures_expand_df.select(['part', 'performance']).group_by('part').mean().sort(by='performance', descending=True)"
   ]
  },
  {
   "cell_type": "markdown",
   "metadata": {},
   "source": [
    "### Заключение\n",
    "В настоящей работе было проанализировано три датасета: **train_df**, **questions_df** и **lectures_df**. Во всех датасетах были заменены отсутствующие значения (*null*). По результатам проведённого анализа можно сформировать следующие выводы:\n",
    "\n",
    "**train_df**\n",
    "- в таблице представлена информация о **393656** студентах (*user_id*);\n",
    "- в таблице суммарно **99271300** вопросов и **1959032** лекций (**98%** и **2%** от общего числа строк соответственно), а также **10000** групп вопросов/лекций (*task_container_id*);\n",
    "- ошибочные данные отсутствуют (всё соответствует описанию датасета);\n",
    "- процент корректных ответов на вопросы от их общего числа - **65,7%** (*answered_correctly*);\n",
    "- среднее время ответа на вопрос - **25423.810547** (*prior_question_elapsed_time*);\n",
    "- процентное соотношение правильных ответов при непосещении/посещении лекций студентами - **4,63%** / **60,82%** (*prior_question_had_explanation*);\n",
    "- успеваемость студентов (параметр *performance* датасета **performance_df**, полученного из **train_df**) имеет зависимость от числа посещённых ими лекций - в целом, посещение большего числа лекций повышает успеваемость.\n",
    "\n",
    "**questions_df**\n",
    "- в таблице представлена информация о **13522** возможных вопросах (*question_id*);\n",
    "- теги вопросов (*tags*) не имеют непосредственного влияния на успеваемость; \n",
    "- в таблице приведено **7** групп вопросов (*part*); лучший результат студенты показали при решении **1 группы** (**82%**), хуже - при решении **5 группы** (**67%**).\n",
    "\n",
    "**lectures_df**\n",
    "- в таблице представлена информация о **418** возможных лекциях (*lecture_id*);\n",
    "- в таблице приведены **4** темы лекций (*type_of*) - *intension*, *solving question*, *concept* и *starter*. Наибольшее влияние на успеваемость оказала тема **intension** (**45%**), наименьшее - **starter** (**18%**);\n",
    "- в таблице представлены **7** групп лекций (*part*). Наилучшая успеваемость соответствует **1 группе** (**30%**), наихудшая - **2 группе** (**22%**)."
   ]
  }
 ],
 "metadata": {
  "kernelspec": {
   "display_name": ".venv",
   "language": "python",
   "name": "python3"
  },
  "language_info": {
   "codemirror_mode": {
    "name": "ipython",
    "version": 3
   },
   "file_extension": ".py",
   "mimetype": "text/x-python",
   "name": "python",
   "nbconvert_exporter": "python",
   "pygments_lexer": "ipython3",
   "version": "3.11.9"
  }
 },
 "nbformat": 4,
 "nbformat_minor": 2
}
