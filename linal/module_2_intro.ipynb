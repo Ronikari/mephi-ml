{
 "cells": [
  {
   "cell_type": "code",
   "execution_count": 1,
   "metadata": {},
   "outputs": [],
   "source": [
    "import numpy as np"
   ]
  },
  {
   "cell_type": "code",
   "execution_count": 2,
   "metadata": {},
   "outputs": [
    {
     "name": "stdout",
     "output_type": "stream",
     "text": [
      "-9\n"
     ]
    }
   ],
   "source": [
    "v1 = np.array([-1, 2, -7, 9])\n",
    "v2 = np.array([2, 8, 2, -1])\n",
    "print(np.dot(v1, v2))"
   ]
  },
  {
   "cell_type": "code",
   "execution_count": 3,
   "metadata": {},
   "outputs": [
    {
     "name": "stdout",
     "output_type": "stream",
     "text": [
      "[[2 3]\n",
      " [3 5]]\n"
     ]
    }
   ],
   "source": [
    "A = np.array([\n",
    "    [1, 1],\n",
    "    [1, 2]\n",
    "])\n",
    "G = np.dot(A.T, A)\n",
    "print(G)"
   ]
  },
  {
   "cell_type": "code",
   "execution_count": 4,
   "metadata": {},
   "outputs": [
    {
     "name": "stdout",
     "output_type": "stream",
     "text": [
      "[[ 7. -2.]\n",
      " [-3.  1.]]\n"
     ]
    }
   ],
   "source": [
    "A = np.array([\n",
    "    [1, 2],\n",
    "    [3, 7]\n",
    "])\n",
    "print(np.linalg.inv(A))"
   ]
  },
  {
   "cell_type": "code",
   "execution_count": 5,
   "metadata": {},
   "outputs": [
    {
     "name": "stdout",
     "output_type": "stream",
     "text": [
      "2\n"
     ]
    }
   ],
   "source": [
    "v1 = np.array([2, 10, -2])\n",
    "v2 = np.array([3, 2, -2])\n",
    "v3 = np.array([8, 14, -6])\n",
    "A = np.array([v1, v2, v3]).T\n",
    "print(np.linalg.matrix_rank(A))"
   ]
  },
  {
   "cell_type": "code",
   "execution_count": 8,
   "metadata": {},
   "outputs": [
    {
     "name": "stdout",
     "output_type": "stream",
     "text": [
      "[2 3 2]\n"
     ]
    }
   ],
   "source": [
    "A = np.array([\n",
    "    [1, 1],\n",
    "    [1, 2],\n",
    "    [1, 1]\n",
    "])\n",
    "w = np.array([1, 1]).T\n",
    "b = np.dot(A, w)\n",
    "print(b)"
   ]
  }
 ],
 "metadata": {
  "kernelspec": {
   "display_name": ".venv",
   "language": "python",
   "name": "python3"
  },
  "language_info": {
   "codemirror_mode": {
    "name": "ipython",
    "version": 3
   },
   "file_extension": ".py",
   "mimetype": "text/x-python",
   "name": "python",
   "nbconvert_exporter": "python",
   "pygments_lexer": "ipython3",
   "version": "3.11.1"
  }
 },
 "nbformat": 4,
 "nbformat_minor": 2
}
