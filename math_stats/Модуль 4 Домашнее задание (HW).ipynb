{
 "cells": [
  {
   "cell_type": "markdown",
   "id": "82d45cfc",
   "metadata": {},
   "source": [
    "## <center> Модуль 4. Однофакторный дисперсионный анализ. Практика  \n"
   ]
  },
  {
   "cell_type": "code",
   "execution_count": 2,
   "id": "049e9246",
   "metadata": {},
   "outputs": [],
   "source": [
    "import numpy as np\n",
    "import pandas as pd\n",
    "import matplotlib.pyplot as plt\n",
    "from scipy import stats\n",
    "from statsmodels.formula.api import ols\n",
    "from statsmodels.stats.anova import anova_lm"
   ]
  },
  {
   "cell_type": "markdown",
   "id": "e5c0f0e1-1ce1-4d98-b7fe-a7ab438f1260",
   "metadata": {},
   "source": [
    "### Задание 1"
   ]
  },
  {
   "cell_type": "markdown",
   "id": "0b84b4c4",
   "metadata": {},
   "source": [
    "Сопоставить статистику и условия ее применения:  \n",
    "|<center>Статистика</center>|<center>Условие</center>|\n",
    "|----------|-------|\n",
    "|1. z-тест |А) анализ различий между многими выборками|\n",
    "|2. t-тест |B) проверка среднего выборки на конкретное значение при неизвестной дисперсии|\n",
    "|3. F-тест |С) соответствие структуры данных гипотетической модели|\n",
    "|4. $\\chi^2$-тест|D) проверка дисперсии выборки на конкретное значение при известном среднем|\n",
    "|5. ANOVA  |E) проверка среднего выборки на конкретное значение при известной дисперсии|\n",
    "|          |F) сравнение дисперсий двух выборок|\n",
    "|          |G) наличие или отсутствие связи между параметрами|"
   ]
  },
  {
   "cell_type": "markdown",
   "id": "dedac2b0",
   "metadata": {},
   "source": [
    "**Ответ:**  \n",
    "1 - E  \n",
    "2 - B   \n",
    "3 - F   \n",
    "4 - C, D, G  \n",
    "5 - A, G"
   ]
  },
  {
   "cell_type": "markdown",
   "id": "e8eecee9-8ad7-4f85-9dfa-a58fa415b076",
   "metadata": {},
   "source": [
    "### Задание 2  \n",
    "Порошок для посудомоечной машины насыпается в коробки, в которых он продается, с помощью автоматического дозатора, который настроен на дозирование **3 кг** порошка в каждую коробку. Чтобы проверить, что дозатор работает в соответствии с приемлемым стандартом (т.е. не нуждается в настройке), инженер-технолог берет случайные образцы из **50** коробок и взвешивает их. Установлено, что средний вес образца составляет **3,005 кг**. Известно, что дозатор работает с отклонением **0,015 кг** и что производитель порошка готов полагаться на **5%** уровень значимости. Предоставляет ли образец инженеру достаточные доказательства того, что истинное среднее значение не равно **3,00 кг**, и поэтому машина требует настройки?  \n",
    "  \n",
    "**Критерии оценивания:**  \n",
    "- верно указана применяемая статистика и обоснование ее применения;\n",
    "- получено расчетное значение статистики;\n",
    "- получено критическое значение статистики;\n",
    "- получено значение p_value;\n",
    "- сделан статистический вывод на основе сравнения критического значения с расчетным;\n",
    "- сделан статистический вывод на основе сравнения p-value и уровня значимости;\n",
    "- сделан содержательный вывод по поставленной проблеме."
   ]
  },
  {
   "cell_type": "markdown",
   "id": "7dd90e45",
   "metadata": {},
   "source": [
    "**Решение:**  \n",
    "\n",
    "В настоящей задаче размер выборки превышает 30, известно стандартное отклонение - следует использовать **z-тест**.  \n",
    "Определить нулевую и альтернативную гипотезы:\n",
    "- $H_0:$ $\\mu_x = 3$\n",
    "- $H_1:$ $\\mu_x \\neq 3$   \n",
    "\n",
    "Указать уровень значимости:  \n",
    "- $\\alpha = 0.05$"
   ]
  },
  {
   "cell_type": "code",
   "execution_count": null,
   "id": "2240d12a",
   "metadata": {},
   "outputs": [
    {
     "name": "stdout",
     "output_type": "stream",
     "text": [
      "z-оценка: 2.3570226039551083\n",
      "Критическая z-оценка: 1.959963984540054\n",
      "Отклонить нулевую гипотезу (z_score > z_critical)\n",
      "p-value: 0.009211062727050745\n",
      "Отклонить нулевую гипотезу (p_value < alpha)\n"
     ]
    }
   ],
   "source": [
    "sample_mean = 3.005     # возможное среднее значение\n",
    "population_mean = 3     # среднее значение\n",
    "population_std = 0.015  # стандартное отклонение\n",
    "sample_size = 50        # размер выборки\n",
    "alpha = 0.05            # уровень значимости\n",
    "\n",
    "# Вычислить z-оценку\n",
    "z_score = (sample_mean - population_mean) / (population_std / np.sqrt(sample_size))\n",
    "print('z-оценка:', z_score)\n",
    "\n",
    "# Принять решение на основе критической z-оценки\n",
    "# Рассчитать критическое значение z\n",
    "z_critical = stats.norm.ppf(1 - alpha / 2)\n",
    "print('Критическая z-оценка:', z_critical)\n",
    "\n",
    "# Задать условие для принятия решения на основе критической z-оценки\n",
    "if z_score > z_critical:\n",
    "    print(\"Отклонить нулевую гипотезу (z_score > z_critical)\")\n",
    "else:\n",
    "    print(\"Нельзя отклонить нулевую гипотезу (z_score < z_critical)\")\n",
    "\n",
    "# Вычислить p_value\n",
    "p_value = 1 - stats.norm.cdf(z_score)\n",
    "print('p-value:', p_value)\n",
    "\n",
    "# Задать условие для принятия решения на основе p-value\n",
    "if p_value < alpha:\n",
    "    print(\"Отклонить нулевую гипотезу (p_value < alpha)\")\n",
    "else:\n",
    "    print(\"Нельзя отклонить нулевую гипотезу (p_value > alpha)\")"
   ]
  },
  {
   "cell_type": "markdown",
   "id": "9e2a3d1c",
   "metadata": {},
   "source": [
    "1. **Статистический вывод:** на основании имеющихся данных, при уровне значимости **5%** (*уровне доверия 95%*) **есть основания** отвергнуть нулевую гипотезу в пользу альтернативы.\n",
    "2. **Содержательный вывод:** образец предоставляет инженеру достаточные доказательства того, что истинное среднее значение не равно **3,00 кг**, машина требует настройки."
   ]
  },
  {
   "cell_type": "markdown",
   "id": "17ad34a0-cbb3-482a-99d4-253f0b70f05f",
   "metadata": {},
   "source": [
    "### Задание 3  \n",
    "Производитель двигателей хочет заменить стальные компоненты подвески алюминиевыми, чтобы снизить вес и тем самым улучшить производительность и расход топлива. Испытания на прочность проводятся на случайно выбранных образцах из двух возможных веществ, прежде чем будет сделан окончательный выбор. Результаты таковы:\n",
    "| № вещества | Размер выборки | Средняя прочность (кг * мм$^-2$) | Стандартное отклонение (кг * мм$^-2$) |\n",
    "|:----------:|:--------------:|:--------------------------------:|:-------------------------------------:|\n",
    "| 1 | 15 | 90 | 2.3 |\n",
    "| 2 | 10 | 88 | 2.2 |  \n",
    "\n",
    "Есть ли разница между средними прочностными характеристиками веществ на уровне значимости **5%**?  \n",
    "  \n",
    "**Критерии оценивания:**\n",
    "- верно указана применяемая статистика и обоснование ее применения;\n",
    "- получено расчетное значение статистики;\n",
    "- получено критическое значение статистики;\n",
    "- получено значение p_value;\n",
    "- сделан статистический вывод на основе сравнения критического значения с расчетным;\n",
    "- сделан статистический вывод на основе сравнения p-value и уровня значимости;\n",
    "- сделан содержательный вывод по поставленной проблеме."
   ]
  },
  {
   "cell_type": "markdown",
   "id": "68220d12",
   "metadata": {},
   "source": [
    "**Решение:**  \n",
    "\n",
    "В задаче следует использовать **t-тест** с независимым t-критерием:\n",
    "- размеры выборок меньше 30;\n",
    "- дисперсия популяции неизвестна;\n",
    "- выборки не связаны друг с другом.\n",
    "\n",
    "Определить нулевую и альтернативную гипотезы:\n",
    "- $H_0:$ $\\mu_1 = \\mu_2$\n",
    "- $H_1:$ $\\mu_1 \\neq \\mu_2$   \n",
    "\n",
    "Указать уровень значимости:  \n",
    "- $\\alpha = 0.05$"
   ]
  },
  {
   "cell_type": "code",
   "execution_count": null,
   "id": "81d6e912-5bf8-4b72-b33f-097e6037d7d4",
   "metadata": {},
   "outputs": [
    {
     "name": "stdout",
     "output_type": "stream",
     "text": [
      "t-оценка: 2.0577668810781273\n",
      "Критическая t-оценка: 2.0686576104190406\n",
      "p-value: 0.051120239195899995\n",
      "Нельзя отклонить нулевую гипотезу (t_score < t_critical)\n",
      "Нельзя отклонить нулевую гипотезу (p_value > alpha)\n"
     ]
    }
   ],
   "source": [
    "# Группа А (стальные компоненты)\n",
    "n1 = 15\n",
    "n1_mean = 90\n",
    "n1_std = 2.3\n",
    "\n",
    "# Группа В (алюминиевые компоненты)\n",
    "n2 = 10\n",
    "n2_mean = 88\n",
    "n2_std = 2.2\n",
    "\n",
    "alpha = 0.05  # уровень значимости\n",
    "\n",
    "# Вычислить несмещенные стандартные отклонения\n",
    "n1_std_corr = n1_std * np.sqrt(n1 / (n1 - 1))\n",
    "n2_std_corr = n2_std * np.sqrt(n2 / (n2 - 1))\n",
    "\n",
    "# Вычислить статистики t_score и p_value\n",
    "t_score, p_value = stats.ttest_ind_from_stats(n1_mean, n1_std_corr, n1, n2_mean, n1_std_corr, n2)\n",
    "\n",
    "# Получить количество степеней свободы \n",
    "v = n1 + n2 - 2\n",
    "\n",
    "# Рассчитать критическую t-оценку\n",
    "t_critical = stats.t.ppf(1 - alpha / 2, df = v)\n",
    "print('t-оценка:', t_score)\n",
    "print('Критическая t-оценка:', t_critical)\n",
    "print('p-value:', p_value)\n",
    "\n",
    "# Задать условие для принятия решения на основе критической t-оценки\n",
    "if np.abs(t_score) > t_critical:\n",
    "    print(\"Отклонить нулевую гипотезу (t_score > t_critical)\")\n",
    "else:\n",
    "    print(\"Нельзя отклонить нулевую гипотезу (t_score < t_critical)\")\n",
    "\n",
    "# Задать условие для принятия решения на основе p_value\n",
    "if p_value < alpha:\n",
    "    print(\"Отклонить нулевую гипотезу (p_value < alpha)\")\n",
    "else:\n",
    "    print(\"Нельзя отклонить нулевую гипотезу (p_value > alpha)\")"
   ]
  },
  {
   "cell_type": "markdown",
   "id": "ddad77f8",
   "metadata": {},
   "source": [
    "1. **Статистический вывод:** на основании имеющихся данных, при уровне значимости **5%** (*уровне доверия 95%*) **нет оснований** отвергнуть нулевую гипотезу в пользу альтернативы.\n",
    "2. **Содержательный вывод:** различия между прочностными характеристиками стальных и алюминиевых компонентов не выявлены."
   ]
  },
  {
   "cell_type": "markdown",
   "id": "ad515879-cb2d-43eb-93ee-d3f6bb4b49d4",
   "metadata": {},
   "source": [
    "### Задание 4\n",
    "Производитель электронного оборудования разработал схему для подачи тока на определенный компонент экрана дисплея компьютера. Хотя новая конструкция дешевле в производстве, ее можно внедрить в массовое производство только в том случае, если она пропускает к компоненту тот же средний ток. В ходе испытаний с участием двух схем получены следующие результаты.  \n",
    "| № теста | Ток старой к. (мА) | Ток новой к. (мА) |\n",
    "|:----------:|:--------------:|:--------------------------------:|\n",
    "| 1 | 80.1 | 80.7 |\n",
    "| 2 | 82.3 | 81.3 |\n",
    "| 3 | 84.1 | 84.6 |\n",
    "| 4 | 82.6 | 81.7 |\n",
    "| 5 | 85.3 | 86.3 |\n",
    "| 6 | 81.3 | 84.3 |\n",
    "| 7 | 83.2 | 83.7 |\n",
    "| 8 | 81.7 | 84.7 |\n",
    "| 9 | 82.2 | 82.8 |\n",
    "| 10 | 81.4 | 84.4 |\n",
    "| 11 |  | 85.2 |\n",
    "| 12 | | 84.9 |  \n",
    "\n",
    "Если предположить, что выборки, из которых взяты результаты, имеют равные дисперсии, следует ли производителю заменить старую конструкцию схемы на новую? Используйте уровень значимости **5%**.  \n",
    "\n",
    "**Критерии оценивания:**\n",
    "- верно указана применяемая статистика и обоснование ее применения;\n",
    "- получено расчетное значение статистики;\n",
    "- получено критическое значение статистики;\n",
    "- получено значение p_value;\n",
    "- сделан статистический вывод на основе сравнения критического значения с расчетным;\n",
    "- сделан статистический вывод на основе сравнения p-value и уровня значимости;\n",
    "- сделан содержательный вывод по поставленной проблеме."
   ]
  },
  {
   "cell_type": "markdown",
   "id": "9ebb84fa",
   "metadata": {},
   "source": [
    "**Решение:**  \n",
    "\n",
    "В задаче следует использовать **t-тест** с независимым t-критерием:\n",
    "- размеры выборок меньше 30;\n",
    "- дисперсия популяции неизвестна;\n",
    "- выборки не связаны друг с другом.\n",
    "\n",
    "Определить нулевую и альтернативную гипотезы:\n",
    "- $H_0:$ $\\mu_1 = \\mu_2$\n",
    "- $H_1:$ $\\mu_1 \\neq \\mu_2$   \n",
    "\n",
    "Указать уровень значимости:  \n",
    "- $\\alpha = 0.05$"
   ]
  },
  {
   "cell_type": "code",
   "execution_count": null,
   "id": "f0720b4c-0ce0-43e6-be7a-bdb9d593eefd",
   "metadata": {},
   "outputs": [
    {
     "name": "stdout",
     "output_type": "stream",
     "text": [
      "t-оценка: -1.8657246011714124\n",
      "Критическая t-оценка: 2.0859634472658364\n",
      "p-value: 0.07681685091779608\n",
      "Нельзя отклонить нулевую гипотезу (t_score < t_critical)\n",
      "Нельзя отклонить нулевую гипотезу (p_value > alpha)\n"
     ]
    }
   ],
   "source": [
    "x1 = np.array([80.1, 82.3, 84.1, 82.6, 85.3, 81.3, 83.2, 81.7, 82.2, 81.4])\n",
    "x2 = np.array([80.7, 81.3, 84.6, 81.7, 86.3, 84.3, 83.7, 84.7, 82.8, 84.4, 85.2, 84.9])\n",
    "alpha = 0.05  # уровень значимости\n",
    "\n",
    "# Вычислить t-score и p-value\n",
    "res = stats.ttest_ind(x1, x2) # для двух независимых выборок\n",
    "t_score = res[0]\n",
    "p_value = res[1]\n",
    "\n",
    "# Вычислить критическую t-оценку\n",
    "t_critical = stats.t.ppf(1 - alpha / 2, df = res.df)\n",
    "print('t-оценка:', t_score)\n",
    "print('Критическая t-оценка:', t_critical)\n",
    "print('p-value:', p_value)\n",
    "\n",
    "# Задать условие для принятия решения на основе критической t-оценки\n",
    "if np.abs(t_score) > t_critical:\n",
    "    print(\"Отклонить нулевую гипотезу (t_score > t_critical)\")\n",
    "else:\n",
    "    print(\"Нельзя отклонить нулевую гипотезу (t_score < t_critical)\")\n",
    "\n",
    "# Задать условие для принятия решения на основе p_value\n",
    "if p_value < alpha:\n",
    "    print(\"Отклонить нулевую гипотезу (p_value < alpha)\")\n",
    "else:\n",
    "    print(\"Нельзя отклонить нулевую гипотезу (p_value > alpha)\")"
   ]
  },
  {
   "cell_type": "markdown",
   "id": "cda0cc2a",
   "metadata": {},
   "source": [
    "1. **Статистический вывод:** на основании имеющихся данных, при уровне значимости **5%** (*уровне доверия 95%*) **нет оснований** отвергнуть нулевую гипотезу в пользу альтернативы.\n",
    "2. **Содержательный вывод:** различия между характеристиками обеих конструкций не выявлены, производитель может осуществить их замену на своем производстве."
   ]
  },
  {
   "cell_type": "markdown",
   "id": "46f3a4d3-149d-45c3-bdae-df806e07bae1",
   "metadata": {},
   "source": [
    "### Задание 5\n",
    "Для оценки эффективности нового гипогликемического средства были проведены измерения уровня глюкозы в крови пациентов, страдающих сахарным диабетом, до и после приема препарата. В результате были получены следующие данные:\n",
    "| № пациента | Ур. глюкозы до препарата | Ур. шлюкозы после препарата |\n",
    "|:----------:|:--------------:|:--------------------------------:|\n",
    "| 1 | 9.6 | 7.7 |\n",
    "| 2 | 8.1 | 6.2 |\n",
    "| 3 | 8.8 | 7.4 |\n",
    "| 4 | 7.9 | 7.5 |\n",
    "| 5 | 9.2 | 8.3 |\n",
    "| 6 | 8.0 | 6.2 |\n",
    "| 7 | 8.4 | 8.1 |\n",
    "| 8 | 10.1 | 8.9 |\n",
    "| 9 | 7.8 | 7.4 |\n",
    "| 10 | 8.1 | 7.0 |\n",
    "\n",
    "Определить, есть ли эффект от приема препарата на уровне доверия **0.95**.\n",
    "\n",
    "**Критерии оценивания:**\n",
    "- верно указана применяемая статистика и обоснование ее применения;\n",
    "- получено расчетное значение статистики;\n",
    "- получено критическое значение статистики;\n",
    "- получено значение p_value;\n",
    "- сделан статистический вывод на основе сравнения критического значения с расчетным;\n",
    "- сделан статистический вывод на основе сравнения p-value и уровня значимости;\n",
    "- сделан содержательный вывод по поставленной проблеме."
   ]
  },
  {
   "cell_type": "markdown",
   "id": "0785fcf5",
   "metadata": {},
   "source": [
    "**Решение:**  \n",
    "\n",
    "В задаче следует использовать односторонний **t-тест** с парным t-критерием:\n",
    "- размеры выборок меньше 30;\n",
    "- дисперсия популяции неизвестна;\n",
    "- выборки связаны друг с другом (в исследовании участвовали одни и те же пациенты).\n",
    "\n",
    "Определить нулевую и альтернативную гипотезы:\n",
    "- $H_0:$ $\\mu_1 = \\mu_2$\n",
    "- $H_1:$ $\\mu_1 > \\mu_2$   \n",
    "\n",
    "Указать уровень значимости:  \n",
    "- $\\alpha = 0.05$"
   ]
  },
  {
   "cell_type": "code",
   "execution_count": 5,
   "id": "14596427-0d20-4ffe-8c38-e941fe204a9d",
   "metadata": {},
   "outputs": [
    {
     "name": "stdout",
     "output_type": "stream",
     "text": [
      "t-оценка: 5.713032381721969\n",
      "Критическая t-оценка: 1.8331129326536333\n",
      "p-value: 0.0001447470198376748\n",
      "Отклонить нулевую гипотезу (t_score > t_critical)\n",
      "Отклонить нулевую гипотезу (p_value < alpha)\n"
     ]
    }
   ],
   "source": [
    "x1 = np.array([9.6, 8.1, 8.8, 7.9, 9.2, 8.0, 8.4, 10.1, 7.8, 8.1])\n",
    "x2 = np.array([7.7, 6.2, 7.4, 7.5, 8.3, 6.2, 8.1, 8.9, 7.4, 7.0])\n",
    "alpha = 0.05  # уровень значимости\n",
    "\n",
    "# Вычислить t-score и p-value\n",
    "res = stats.ttest_rel(x1, x2, alternative='greater') # для двух связанных выборок\n",
    "t_score = res[0]\n",
    "p_value = res[1]\n",
    "\n",
    "# Вычислить критическую t-оценку\n",
    "t_critical = stats.t.ppf(1 - alpha, df = res.df)\n",
    "print('t-оценка:', t_score)\n",
    "print('Критическая t-оценка:', t_critical)\n",
    "print('p-value:', p_value)\n",
    "\n",
    "# Задать условие для принятия решения на основе критической t-оценки\n",
    "if np.abs(t_score) > t_critical:\n",
    "    print(\"Отклонить нулевую гипотезу (t_score > t_critical)\")\n",
    "else:\n",
    "    print(\"Нельзя отклонить нулевую гипотезу (t_score < t_critical)\")\n",
    "\n",
    "# Задать условие для принятия решения на основе p_value\n",
    "if p_value < alpha:\n",
    "    print(\"Отклонить нулевую гипотезу (p_value < alpha)\")\n",
    "else:\n",
    "    print(\"Нельзя отклонить нулевую гипотезу (p_value > alpha)\")"
   ]
  },
  {
   "cell_type": "markdown",
   "id": "3cde183d",
   "metadata": {},
   "source": [
    "1. **Статистический вывод:** на основании имеющихся данных, при уровне значимости **5%** (*уровне доверия 95%*) **есть основания** отвергнуть нулевую гипотезу в пользу альтернативы.\n",
    "2. **Содержательный вывод:** различия между уровнями глюкозы в крови пациентов выявлены, что позволяет свидетельствовать об эффективности нового гипогликемического средства."
   ]
  },
  {
   "cell_type": "markdown",
   "id": "31d98391-527f-40ec-9212-5765fcec7794",
   "metadata": {},
   "source": [
    "### Задание 6\n",
    "Производитель стальных тросов, используемых при строительстве подвесных мостов, экспериментировал с новым типом стали, который, как он надеется, сделает производимые тросы более прочными в том смысле, что они будут выдерживать большие нагрузки натяжения до разрушения. Для того чтобы проверить производительность новых тросов по сравнению со старыми тросами, образцы испытываются на разрушение при растяжении. Полученные результаты приведены ниже, где напряжения разрушения указаны в кг$\\times 10^3$  \n",
    "| № теста | Новый кабель | Старый кабель |\n",
    "|:-------:|:------------:|:-------------:|\n",
    "| 1 | 92.7 | 90.1 |\n",
    "| 2 | 91.6 | 92.2 |\n",
    "| 3 | 94.7 | 94.3 |\n",
    "| 4 | 93.7 | 92.1 |\n",
    "| 5 | 96.5 | 93.4 |\n",
    "| 6 | 94.3 | 91.1 |\n",
    "| 7 | 93.7 | 93.2 |\n",
    "| 8 | 96.8 | 91.5 |\n",
    "| 9 | 98.9 |  |\n",
    "| 10 | 99.9 |  |  \n",
    "\n",
    "Изготовитель кабеля, изучив законодательство по охране труда и технике безопасности, решает, что в любой статистической процедуре тестирования, принятой для различения кабелей, следует использовать уровень значимости **1%**. На основе полученных результатов и предполагая, что выборки, из которых взяты образцы, не имеют равных дисперсий, должен ли изготовитель заменить старый кабель новым?  \n",
    "\n",
    "**Критерии оценивания:**\n",
    "- верно указана применяемая статистика и обоснование ее применения;\n",
    "- получено расчетное значение статистики;\n",
    "- получено критическое значение статистики;\n",
    "- получено значение p_value;\n",
    "- сделан статистический вывод на основе сравнения критического значения с расчетным;\n",
    "- сделан статистический вывод на основе сравнения p-value и уровня значимости;\n",
    "- сделан содержательный вывод по поставленной проблеме."
   ]
  },
  {
   "cell_type": "markdown",
   "id": "89fdb421",
   "metadata": {},
   "source": [
    "**Решение:**  \n",
    "\n",
    "В задаче следует использовать **t-тест** с независимым t-критерием:\n",
    "- размеры выборок меньше 30;\n",
    "- дисперсия популяции неизвестна;\n",
    "- выборки не связаны друг с другом.\n",
    "\n",
    "Определить нулевую и альтернативную гипотезы:\n",
    "- $H_0:$ $\\mu_1 = \\mu_2$\n",
    "- $H_1:$ $\\mu_1 < \\mu_2$   \n",
    "\n",
    "Указать уровень значимости:  \n",
    "- $\\alpha = 0.01$"
   ]
  },
  {
   "cell_type": "code",
   "execution_count": 11,
   "id": "0e3867b6-8f7a-499b-9c16-2708357091f1",
   "metadata": {},
   "outputs": [
    {
     "name": "stdout",
     "output_type": "stream",
     "text": [
      "t-оценка: 3.120397708249153\n",
      "Критическая t-оценка: 2.6274728694881135\n",
      "p-value: 0.0037950235841139484\n",
      "Отклонить нулевую гипотезу (t_score > t_critical)\n",
      "Отклонить нулевую гипотезу (p_value < alpha)\n"
     ]
    }
   ],
   "source": [
    "x1 = np.array([92.7, 91.6, 94.7, 93.7, 96.5, 94.3, 93.7, 96.8, 98.9, 99.9])\n",
    "x2 = np.array([90.1, 92.2, 94.3, 92.1, 93.4, 91.1, 93.2, 91.5])\n",
    "alpha = 0.01 # уровень значимости\n",
    "\n",
    "# Вычислить t-score и p-value\n",
    "res = stats.ttest_ind(x1, x2, equal_var=False, alternative='greater')\n",
    "t_score = res[0]\n",
    "p_value = res[1]\n",
    "\n",
    "# Вычислить критическую t-оценку\n",
    "t_critical = stats.t.ppf(1 - alpha, df = res.df)\n",
    "print('t-оценка:', t_score)\n",
    "print('Критическая t-оценка:', t_critical)\n",
    "print('p-value:', p_value)\n",
    "\n",
    "# Задать условие для принятия решения на основе критической t-оценки\n",
    "if np.abs(t_score) > t_critical:\n",
    "    print(\"Отклонить нулевую гипотезу (t_score > t_critical)\")\n",
    "else:\n",
    "    print(\"Нельзя отклонить нулевую гипотезу (t_score < t_critical)\")\n",
    "\n",
    "# Задать условие для принятия решения на основе p_value\n",
    "if p_value < alpha:\n",
    "    print(\"Отклонить нулевую гипотезу (p_value < alpha)\")\n",
    "else:\n",
    "    print(\"Нельзя отклонить нулевую гипотезу (p_value > alpha)\")"
   ]
  },
  {
   "cell_type": "markdown",
   "id": "de341b81",
   "metadata": {},
   "source": [
    "1. **Статистический вывод:** на основании имеющихся данных, при уровне значимости **1%** (*уровне доверия 99%*) **есть основания** отвергнуть нулевую гипотезу в пользу альтернативы.\n",
    "2. **Содержательный вывод:** различия между напряжениями разрушения обоих тросов выявлены, изготовитель может заменить исходный кабель новым."
   ]
  },
  {
   "cell_type": "markdown",
   "id": "c94b6ae2-c1fd-46b1-9dff-6c067dae6ac9",
   "metadata": {},
   "source": [
    "### Задание 7\n",
    "10 абитуриентов пришли на подготовительные курсы по ЕГЭ и написали тестирование в начале обучения и после. Результаты теста приведены в таблице.  \n",
    "|№    |  1  |  2  |  3  |  4  |  5  |  6  |  7  |  8  |  9  |  10 |\n",
    "|:---:|:---:|:---:|:---:|:---:|:---:|:---:|:---:|:---:|:---:|:---:|\n",
    "|До   |  7  |  6  |  5  |  4  |  6  |  2  |  10 |  3  |  8  |  5  |\n",
    "|После|  9  |  6  |  4  |  5  |  7  |  4  |  10 |  6  |  9  |  6  |  \n",
    "\n",
    "Влияют ли подготовительные курсы на подготовку абитуриентов на уровне значимости **0.01**?\n",
    "\n",
    "**Критерии оценивания:**\n",
    "- верно указана применяемая статистика и обоснование ее применения;\n",
    "- получено расчетное значение статистики;\n",
    "- получено критическое значение статистики;\n",
    "- получено значение p_value;\n",
    "- сделан статистический вывод на основе сравнения критического значения с расчетным;\n",
    "- сделан статистический вывод на основе сравнения p-value и уровня значимости;\n",
    "- сделан содержательный вывод по поставленной проблеме."
   ]
  },
  {
   "cell_type": "markdown",
   "id": "ecbfb99f",
   "metadata": {},
   "source": [
    "**Решение:**  \n",
    "\n",
    "В задаче следует использовать односторонний **t-тест** с парным t-критерием:\n",
    "- размеры выборок меньше 30;\n",
    "- дисперсия популяции неизвестна;\n",
    "- выборки связаны друг с другом (в исследовании участвовали одни и те же пациенты).\n",
    "\n",
    "Определить нулевую и альтернативную гипотезы:\n",
    "- $H_0:$ $\\mu_1 = \\mu_2$\n",
    "- $H_1:$ $\\mu_1 < \\mu_2$   \n",
    "\n",
    "Указать уровень значимости:  \n",
    "- $\\alpha = 0.01$"
   ]
  },
  {
   "cell_type": "code",
   "execution_count": 2,
   "id": "5226283c-a4f1-44f6-a80d-90a16b8f9796",
   "metadata": {},
   "outputs": [
    {
     "name": "stdout",
     "output_type": "stream",
     "text": [
      "t-оценка: -2.7386127875258306\n",
      "Критическая t-оценка: 2.821437925025808\n",
      "p-value: 0.011449747275884138\n",
      "Нельзя отклонить нулевую гипотезу (t_score < t_critical)\n",
      "Нельзя отклонить нулевую гипотезу (p_value > alpha)\n"
     ]
    }
   ],
   "source": [
    "x1 = np.array([7, 6, 5, 4, 6, 2, 10, 3, 8, 5])\n",
    "x2 = np.array([9, 6, 4, 5, 7, 4, 10, 6, 9, 6])\n",
    "alpha = 0.01 # уровень значимости\n",
    "\n",
    "# Вычислить t-score и p-value\n",
    "res = stats.ttest_rel(x1, x2, alternative='less')\n",
    "t_score = res[0]\n",
    "p_value = res[1]\n",
    "\n",
    "# Вычислить критическую t-оценку\n",
    "t_critical = stats.t.ppf(1 - alpha, df = res.df)\n",
    "print('t-оценка:', t_score)\n",
    "print('Критическая t-оценка:', t_critical)\n",
    "print('p-value:', p_value)\n",
    "\n",
    "# Задать условие для принятия решения на основе критической t-оценки\n",
    "if np.abs(t_score) > t_critical:\n",
    "    print(\"Отклонить нулевую гипотезу (t_score > t_critical)\")\n",
    "else:\n",
    "    print(\"Нельзя отклонить нулевую гипотезу (t_score < t_critical)\")\n",
    "\n",
    "# Задать условие для принятия решения на основе p_value\n",
    "if p_value < alpha:\n",
    "    print(\"Отклонить нулевую гипотезу (p_value < alpha)\")\n",
    "else:\n",
    "    print(\"Нельзя отклонить нулевую гипотезу (p_value > alpha)\")"
   ]
  },
  {
   "cell_type": "markdown",
   "id": "4b5516e2",
   "metadata": {},
   "source": [
    "1. **Статистический вывод:** на основании имеющихся данных, при уровне значимости **1%** (*уровне доверия 99%*) **нет оснований** отвергнуть нулевую гипотезу в пользу альтернативы.\n",
    "2. **Содержательный вывод:** положительное влияние подготовительных курсов по ЕГЭ на итоговую успеваемость абитуриентов не выявлено."
   ]
  },
  {
   "cell_type": "markdown",
   "id": "3457d32d-5ce3-4093-bf60-18cdc0d23a79",
   "metadata": {},
   "source": [
    "### Задание 8\n",
    "Были проведены исследования влияния фруктов на IQ людей. Первая группа среди всех фруктов питалась исключительно апельсинами, вторая – только грушами.  \n",
    "|№        |   1   |   2   |   3   |   4   |   5   |   6   |   7   |   8   |   9   |   10  |\n",
    "|:-------:|:-----:|:-----:|:-----:|:-----:|:-----:|:-----:|:-----:|:-----:|:-----:|:-----:|\n",
    "|Апельсины|  125  |  138  |  112  |  130  |  124  |  125  |  110  |  112  |  117  |  126  |\n",
    "|Груши    |  124  |  102  |  142  |  130  |  131  |  124  |  127  |  115  |  108  |  109  |  \n",
    "\n",
    "Проверить гипотезу, что дисперсии обеих групп одинаковые на уровне значимости **0.05**.  \n",
    "\n",
    "**Критерии оценивания:**\n",
    "- верно указана применяемая статистика и обоснование ее применения;\n",
    "- получено расчетное значение статистики;\n",
    "- получено критическое значение статистики;\n",
    "- получено значение p_value;\n",
    "- сделан статистический вывод на основе сравнения критического значения с расчетным;\n",
    "- сделан статистический вывод на основе сравнения p-value и уровня значимости;\n",
    "- сделан содержательный вывод по поставленной проблеме."
   ]
  },
  {
   "cell_type": "markdown",
   "id": "c00f235c",
   "metadata": {},
   "source": [
    "**Решение:**  \n",
    "\n",
    "В задаче следует использовать  **F-тест** из-за необходимости сравнения дисперсий двух выборок.  \n",
    "\n",
    "Определить нулевую и альтернативную гипотезы:\n",
    "- $H_0:$ дисперсии выборок существенно не отличаются;\n",
    "- $H_1:$ дисперсии выборок существенно отличаются.   \n",
    "\n",
    "Указать уровень значимости:  \n",
    "- $\\alpha = 0.05$"
   ]
  },
  {
   "cell_type": "code",
   "execution_count": 4,
   "id": "a2fa0ca3-f86e-4ce4-9051-3d07abdceeb6",
   "metadata": {},
   "outputs": [
    {
     "name": "stdout",
     "output_type": "stream",
     "text": [
      "F-score: 1.9061769156692805\n",
      "Critical F-Score: 3.17889310445827\n",
      "p-value: 0.824706379417758\n",
      "Нельзя отклонить нулевую гипотезу (F_score < F_critical)\n",
      "Нельзя отклонить нулевую гипотезу (p_value > alpha)\n"
     ]
    }
   ],
   "source": [
    "x1 = np.array([125, 138, 112, 130, 124, 125, 110, 112, 117, 126])\n",
    "x2 = np.array([124, 102, 142, 130, 131, 124, 127, 115, 108, 109])\n",
    "alpha = 0.05  # уровень значимости\n",
    "n = len(x1)   # размера выборки\n",
    "\n",
    "# Вычислить дисперсии\n",
    "S1 = x1.var() * n / (n - 1)\n",
    "S2 = x2.var() * n / (n - 1)\n",
    "\n",
    "# Вычислить F-оценку\n",
    "if S1 > S2:\n",
    "    F_score = S1/S2\n",
    "else:\n",
    "    F_score = S2/S1   \n",
    "print('F-оценка:', np.abs(F_score))\n",
    "\n",
    "# Вычислить критическую F-оценку\n",
    "F_critical = stats.f.ppf(1 - alpha, dfn = n - 1, dfd = n - 1)\n",
    "print('Критическая F-оценка:', F_critical)\n",
    "\n",
    "# Вычислить p-value\n",
    "p_value = stats.f.cdf(np.abs(F_score), dfn = n - 1, dfd = n - 1)\n",
    "print('p-value:', p_value)\n",
    "\n",
    "# Задать условие для принятия решения на основе критической t-оценки\n",
    "if np.abs(F_score) > F_critical:\n",
    "    print(\"Отклонить нулевую гипотезу (F_score > F_critical)\")\n",
    "else:\n",
    "    print(\"Нельзя отклонить нулевую гипотезу (F_score < F_critical)\")\n",
    "\n",
    "# Задать условие для принятия решения на основе p_value\n",
    "if p_value < alpha:\n",
    "    print(\"Отклонить нулевую гипотезу (p_value < alpha)\")\n",
    "else:\n",
    "    print(\"Нельзя отклонить нулевую гипотезу (p_value > alpha)\")"
   ]
  },
  {
   "cell_type": "markdown",
   "id": "7a305deb",
   "metadata": {},
   "source": [
    "1. **Статистический вывод:** на основании имеющихся данных, при уровне значимости **5%** (*уровне доверия 95%*) **нет оснований** отвергнуть нулевую гипотезу в пользу альтернативы.\n",
    "2. **Содержательный вывод:** существенное различие дисперсий обеих выборок не выявлено."
   ]
  },
  {
   "cell_type": "markdown",
   "id": "7f6c4b09-ad80-4c83-82fb-472272cef69d",
   "metadata": {},
   "source": [
    "### Задание 9\n",
    "Для 100 самолетов была составлена таблица, показывающая, сколько потребовалось вылетов каждому самолету, чтобы найти потерявшийся в море корабль.  \n",
    "|Вылет |  1  |  2  |  3  |  4  |  5  |  6  |  7  |  8  |  9  |\n",
    "|:----:|:---:|:---:|:---:|:---:|:---:|:---:|:---:|:---:|:---:|\n",
    "|Кол-во|  36 |  23 |  11 |  13 |  8  |  3  |  2  |  1  |  3  |  \n",
    "\n",
    "Предложить распределение, которое могло бы соответствовать этим данным на уровне доверия **0.95**.\n",
    "\n",
    "**Критерии оценивания:**\n",
    "- верно указана применяемая статистика и обоснование ее применения;\n",
    "- получено расчетное значение статистики;\n",
    "- получено критическое значение статистики;\n",
    "- получено значение p_value;\n",
    "- сделан статистический вывод на основе сравнения критического значения с расчетным;\n",
    "- сделан статистический вывод на основе сравнения p-value и уровня значимости;\n",
    "- сделан содержательный вывод по поставленной проблеме."
   ]
  },
  {
   "cell_type": "markdown",
   "id": "e3805b7a",
   "metadata": {},
   "source": [
    "**Решение:**  \n",
    "\n",
    "На основании имеющихся данных можем предположить их геометрическое распределение (число вылетов каждого самолета до обнаружения корабля - первого успеха). Будем использовать $\\chi^2$-тест на соответствие.\n",
    "\n",
    "Определить нулевую и альтернативную гипотезы:\n",
    "- $H_0:$ данные распределены геометрически;\n",
    "- $H_1:$ данные не распределены геометрически.  \n",
    "\n",
    "Указать уровень значимости:  \n",
    "- $\\alpha = 0.05$"
   ]
  },
  {
   "cell_type": "code",
   "execution_count": null,
   "id": "d6f044c5-bd38-45a4-a7b8-574bc448650d",
   "metadata": {},
   "outputs": [
    {
     "name": "stdout",
     "output_type": "stream",
     "text": [
      "Оценочная вероятность успеха р: 0.36496350364963503\n",
      "chi2-оценка: 6.497470448054541\n",
      "Критическая chi2-оценка: 14.067140449340167\n",
      "p-value: 0.5916882366969761\n",
      "Нельзя отклонить нулевую гипотезу (chi2_score < chi2_critical)\n",
      "Нельзя отклонить нулевую гипотезу (p_value > alpha)\n"
     ]
    },
    {
     "data": {
      "image/png": "[encoded data removed]",
      "text/plain": [
       "<Figure size 800x400 with 1 Axes>"
      ]
     },
     "metadata": {},
     "output_type": "display_data"
    }
   ],
   "source": [
    "X = np.array([1, 2, 3, 4, 5, 6, 7, 8, 9])\n",
    "Y = np.array([36, 23, 11, 13, 8, 3, 2, 1, 3])\n",
    "nu = Y.shape[0] - 1 - 1\n",
    "alpha = 0.05  # уровень значимости\n",
    "\n",
    "n_sum = Y.sum() # сумма значений выборки Y\n",
    "n = len(Y) # размер выборки Y\n",
    "\n",
    "# Оценить вероятность успеха р\n",
    "p = n_sum / (X @ Y)\n",
    "print('Оценочная вероятность успеха р:', p)\n",
    "\n",
    "# Получить расчетные значения выборки\n",
    "Y_calc = np.zeros(n)\n",
    "for i in range(0, n):\n",
    "    Y_calc[i] = stats.geom.pmf(X[i], p) * n_sum\n",
    "\n",
    "# Привести сумму расчетных значений в соответствие сумме в выборке Y\n",
    "Y_calc = Y_calc + (n_sum - Y_calc.sum()) / n\n",
    "\n",
    "# Вычислить chi2-score и p-value\n",
    "res = stats.chisquare(Y, Y_calc)\n",
    "chi2_score, p_value = res.statistic, res.pvalue\n",
    "\n",
    "# Вычислить критическую chi2-оценку\n",
    "chi2_critical = stats.chi2.ppf(1 - alpha, df = nu)\n",
    "print('chi2-оценка:', chi2_score)\n",
    "print('Критическая chi2-оценка:', chi2_critical)\n",
    "print('p-value:', p_value)\n",
    "\n",
    "# Задать условие для принятия решения на основе критической chi-оценки\n",
    "if np.abs(chi2_score) > chi2_critical:\n",
    "    print(\"Отклонить нулевую гипотезу (chi2_score > chi2_critical)\")\n",
    "else:\n",
    "    print(\"Нельзя отклонить нулевую гипотезу (chi2_score < chi2_critical)\")\n",
    "\n",
    "# Задать условие для принятия решения на основе p_value\n",
    "if p_value < alpha:\n",
    "    print(\"Отклонить нулевую гипотезу (p_value < alpha)\")\n",
    "else:\n",
    "    print(\"Нельзя отклонить нулевую гипотезу (p_value > alpha)\")\n",
    "\n",
    "# Визуализировать полученное распределение исходных и расчетных значений\n",
    "plt.figure(figsize=(8, 4))\n",
    "plt.title(\"Геометрическое распределение вылетов самолетов\")\n",
    "plt.bar(X, Y, color='black', alpha=0.7, width=0.8)\n",
    "plt.plot(X, Y_calc, color='red')\n",
    "plt.xlabel('Число вылетов самолетов')\n",
    "plt.ylabel('Частота')\n",
    "plt.show()"
   ]
  },
  {
   "cell_type": "markdown",
   "id": "29fbafc8",
   "metadata": {},
   "source": [
    "1. **Статистический вывод:** на основании имеющихся данных, при уровне значимости **5%** (*уровне доверия 95%*) **нет оснований** отвергнуть нулевую гипотезу в пользу альтернативы.\n",
    "2. **Содержательный вывод:** на основании имеющихся данных и полученного графика можно предположить, что данные о вылетах самолетов распределены геометрически."
   ]
  },
  {
   "cell_type": "markdown",
   "id": "683c7734-8ec4-47f3-a4f9-97a18d46ad53",
   "metadata": {},
   "source": [
    "### Задание 10\n",
    "В ходе исследования изучается взаимосвязь между цветом глаз (голубые, карие, зелёные) и цветом волос (светлые, тёмные, рыжие). Собираются следующие данные:  \n",
    "|       |Светлые|Темные|Рыжие|Всего|\n",
    "|:-----:|:-----:|:----:|:---:|:---:|\n",
    "|Голубые|   35  |  52  |  13 | 100 |\n",
    "|Карие  |   28  |  42  |  10 |  80 |\n",
    "|Зеленые|   7   |  10  |  3  |  20 |\n",
    "|Всего  |   70  |  104 |  26 | 200 |  \n",
    "\n",
    "Существует ли связь между цветом волос и цветом глаз? Определить на уровне доверия **0.95**.\n",
    "\n",
    "**Критерии оценивания:**\n",
    "- верно указана применяемая статистика и обоснование ее применения;\n",
    "- получено расчетное значение статистики;\n",
    "- получено критическое значение статистики;\n",
    "- получено значение p_value;\n",
    "- сделан статистический вывод на основе сравнения критического значения с расчетным;\n",
    "- сделан статистический вывод на основе сравнения p-value и уровня значимости;\n",
    "- сделан содержательный вывод по поставленной проблеме."
   ]
  },
  {
   "cell_type": "markdown",
   "id": "e82e4f2b",
   "metadata": {},
   "source": [
    "**Решение:**  \n",
    "\n",
    "На основании имеющихся данных необходимо определить наличие, либо отсутствие связи между категориальными переменными. Будем использовать $\\chi^2$-тест на наличие связи/зависимости.\n",
    "\n",
    "Определить нулевую и альтернативную гипотезы:\n",
    "- $H_0:$ отсутствует связь между цветом волос и цветом глаз;\n",
    "- $H_1:$ присутствует связь между цветом волос и цветом глаз.  \n",
    "\n",
    "Указать уровень значимости:  \n",
    "- $\\alpha = 0.05$"
   ]
  },
  {
   "cell_type": "code",
   "execution_count": 24,
   "id": "9b332ef6-d1f6-4f3a-8a67-59a2f50f149d",
   "metadata": {},
   "outputs": [
    {
     "name": "stdout",
     "output_type": "stream",
     "text": [
      "chi2-оценка: 0.09615384615384615\n",
      "Критическая chi2-оценка: 9.487729036781154\n",
      "p-value: 0.9988806869095861\n",
      "Нельзя отклонить нулевую гипотезу (chi2_score < chi2_critical)\n",
      "Нельзя отклонить нулевую гипотезу (p_value > alpha)\n"
     ]
    }
   ],
   "source": [
    "X = np.array([[35, 52, 13], [28, 42, 10], [7, 10, 3]])\n",
    "nu = (X.shape[0] - 1) * (X.shape[1] - 1)\n",
    "alpha = 0.05  # уровень значимости\n",
    "\n",
    "# Вычислить chi2-score и p-value\n",
    "res = stats.chi2_contingency(X)\n",
    "chi2_score, p_value = res.statistic, res.pvalue\n",
    "\n",
    "# Вычислить критическую chi2-оценку\n",
    "chi2_critical = stats.chi2.ppf(1 - alpha, df = nu)\n",
    "print('chi2-оценка:', chi2_score)\n",
    "print('Критическая chi2-оценка:', chi2_critical)\n",
    "print('p-value:', p_value)\n",
    "\n",
    "# Задать условие для принятия решения на основе критической chi-оценки\n",
    "if np.abs(chi2_score) > chi2_critical:\n",
    "    print(\"Отклонить нулевую гипотезу (chi2_score > chi2_critical)\")\n",
    "else:\n",
    "    print(\"Нельзя отклонить нулевую гипотезу (chi2_score < chi2_critical)\")\n",
    "\n",
    "# Задать условие для принятия решения на основе p_value\n",
    "if p_value < alpha:\n",
    "    print(\"Отклонить нулевую гипотезу (p_value < alpha)\")\n",
    "else:\n",
    "    print(\"Нельзя отклонить нулевую гипотезу (p_value > alpha)\")"
   ]
  },
  {
   "cell_type": "markdown",
   "id": "fb37ad97",
   "metadata": {},
   "source": [
    "1. **Статистический вывод:** на основании имеющихся данных, при уровне значимости **5%** (*уровне доверия 95%*) **нет оснований** отвергнуть нулевую гипотезу в пользу альтернативы.\n",
    "2. **Содержательный вывод:** взаимосвязь между цветом волос и цветом глаз не выявлена."
   ]
  },
  {
   "cell_type": "markdown",
   "id": "181ab8f2-c071-4803-ad2e-3f10813f0c6a",
   "metadata": {},
   "source": [
    "### Задание 11\n",
    "Международная ассоциация защиты животных собрала данные с разных зоопарков о типах корма тигров и их массе:  \n",
    "|<!-- -->|<!-- -->|<!-- -->|<!-- -->|<!-- -->|<!-- -->|<!-- -->|<!-- -->|<!-- -->|<!-- -->|<!-- -->|<!-- -->|<!-- -->|<!-- -->|<!-- -->|\n",
    "|:------:|:------:|:------:|:------:|:------:|:------:|:------:|:------:|:------:|:------:|:------:|:------:|:------:|:------:|:------:|\n",
    "| **№1** |   151  |   135  |   137  |   118  |   132  |   135  |   131  |   121  |   137  |   140  |   152  |   133  |   151  |   132  |\n",
    "| **№2** |   108  |   123  |   145  |   103  |   110  |   124  |   116  |   108  |   104  |   130  |   106  |   105  |   114  |   108  |\n",
    "| **№3** |   140  |   152  |   149  |   132  |   124  |   146  |   156  |   137  |   124  |   145  |   147  |   139  |   157  |   139  |\n",
    "| **№4** |   127  |   135  |   110  |   116  |   119  |   123  |   102  |   121  |   118  |   120  |   114  |   134  |   121  |   109  |  \n",
    "\n",
    "Оценить влияние типа корма на среднюю массу тигров с уровнем значимости **0.05**. В случае, если есть основания отвергнуть нулевую гипотезу о равенстве средних по выборкам, применить тест Тьюки для подробного определения того, в каких парах групп наблюдается существенное отличие в средних.  \n",
    "\n",
    "**Критерии оценивания:**\n",
    "- верно указана применяемая статистика и обоснование ее применения;\n",
    "- получено расчетное значение статистики;\n",
    "- получено значение p_value;\n",
    "- сделан статистический вывод на основе сравнения p-value и уровня значимости;\n",
    "- в случае, если нулевая гипотеза отвергнута, сделан тест Тьюки для подробного сравнения средних;\n",
    "- сделано дополнение к статистическому выводу по результатам теста Тьюки;\n",
    "- сделан содержательный вывод по поставленной проблеме."
   ]
  },
  {
   "cell_type": "markdown",
   "id": "0cdd9113",
   "metadata": {},
   "source": [
    "**Решение:**  \n",
    "\n",
    "Для сравнения четырех групп по одной независимой переменной (корм для тигров) используем однофакторный ANOVA.\n",
    "\n",
    "Определить нулевую и альтернативную гипотезы:\n",
    "- $H_0:$ $\\mu_1 = \\mu_2 = \\mu_3 = \\mu_4$\n",
    "- $H_1:$ средние значения не равны.\n",
    "\n",
    "Указать уровень значимости:  \n",
    "- $\\alpha = 0.05$"
   ]
  },
  {
   "cell_type": "code",
   "execution_count": 3,
   "id": "da071797-ff7a-4b0c-8553-0df933687fe4",
   "metadata": {},
   "outputs": [
    {
     "name": "stdout",
     "output_type": "stream",
     "text": [
      "Отклонить нулевую гипотезу\n",
      "Tukey's HSD Pairwise Group Comparisons (95.0% Confidence Interval)\n",
      "Comparison  Statistic  p-value  Lower CI  Upper CI\n",
      " (0 - 1)     21.500     0.000    10.981    32.019\n",
      " (0 - 2)     -5.857     0.458   -16.376     4.662\n",
      " (0 - 3)     16.857     0.000     6.338    27.376\n",
      " (1 - 0)    -21.500     0.000   -32.019   -10.981\n",
      " (1 - 2)    -27.357     0.000   -37.876   -16.838\n",
      " (1 - 3)     -4.643     0.647   -15.162     5.876\n",
      " (2 - 0)      5.857     0.458    -4.662    16.376\n",
      " (2 - 1)     27.357     0.000    16.838    37.876\n",
      " (2 - 3)     22.714     0.000    12.195    33.233\n",
      " (3 - 0)    -16.857     0.000   -27.376    -6.338\n",
      " (3 - 1)      4.643     0.647    -5.876    15.162\n",
      " (3 - 2)    -22.714     0.000   -33.233   -12.195\n",
      "\n"
     ]
    }
   ],
   "source": [
    "X1 = np.array([151, 135, 137, 118, 132, 135, 131, 121, 137, 140, 152, 133, 151, 132])\n",
    "X2 = np.array([108, 123, 145, 103, 110, 124, 116, 108, 104, 130, 106, 105, 114, 108])\n",
    "X3 = np.array([140, 152, 149, 132, 124, 146, 156, 137, 124, 145, 147, 139, 157, 139])\n",
    "X4 = np.array([127, 135, 110, 116, 119, 123, 102, 121, 118, 120, 114, 134, 121, 109])\n",
    "alpha = 0.05  # уровень значимости\n",
    "\n",
    "res = stats.f_oneway(X1, X2, X3, X4)\n",
    "\n",
    "# Задать условие для принятия решения\n",
    "if res.pvalue < alpha:\n",
    "    print(\"Отклонить нулевую гипотезу\")\n",
    "else:\n",
    "    print(\"Нельзя отклонить нулевую гипотезу\") \n",
    "\n",
    "# Получить статистические данные с помощью теста Тьюки\n",
    "t_res = stats.tukey_hsd(X1, X2, X3, X4)\n",
    "print(t_res)"
   ]
  },
  {
   "cell_type": "markdown",
   "id": "9a148996",
   "metadata": {},
   "source": [
    "На основании имеющихся данных, при уровне значимости **5%** (*уровне доверия 95%*) **есть основания** отвергнуть нулевую гипотезу в пользу альтернативы.  \n",
    "\n",
    "Дополнительный анализ показал:\n",
    "- между кормами 1 и 3 существенных различий не обнаружено;\n",
    "- присутствуют существенные отличия между кормами 1-2, 1-4, 2-3 и 3-4. "
   ]
  },
  {
   "cell_type": "markdown",
   "id": "2e2b26c8-37a6-41dc-82c5-20e35e44aee0",
   "metadata": {},
   "source": [
    "### Задание 12\n",
    "Изучается влияние размножения на массу тела у самок африканских земляных белок разного возраста. Результаты занесены в таблицу:  \n",
    "|          | 1 год | 2 года | 3 и более лет|\n",
    "|:--------:|:-----:|:------:|:------------:|\n",
    "|Без выводка|440|892|1575|\n",
    "|           |438|868|849|\n",
    "|           |429|855|759|\n",
    "|           |502|866|1602|\n",
    "|           |602|932|1327|\n",
    "|С выводком |308|737|1001|\n",
    "|           |328|798|901|\n",
    "|           |326|876|958|\n",
    "|           |326|810|1032|\n",
    "|           |325|861|883|  \n",
    "\n",
    "Определить наличие влияния факторов на целевое значение на уровне доверия **0,95**, используя последовательные суммы квадратов.\n",
    "\n",
    "**Критерии оценивания:**\n",
    "- верно указана применяемая статистика и обоснование ее применения;\n",
    "- расчет выполнен через последовательные суммы квадратов;\n",
    "- получены расчетные значения статистики;\n",
    "- получены значения p_value;\n",
    "- сделан статистический вывод на основе сравнения p-value и уровня значимости;\n",
    "- сделан содержательный вывод по поставленной проблеме."
   ]
  },
  {
   "cell_type": "markdown",
   "id": "b7bb6e96",
   "metadata": {},
   "source": [
    "**Решение:**  \n",
    "\n",
    "Для изучения влияния двух факторов (возраста и наличия выводка у самок африканских земляных белок) на одну непрерывную зависимую переменную (массу тела белок) целесообразно применить двухфакторный ANOVA.\n",
    "\n",
    "Определить нулевую и альтернативную гипотезы:\n",
    "- $H_0:$ влияние возраста и потомства на массу тела отсутствует;\n",
    "- $H_1:$ имеется влияние возраста и потомства на массу тела.\n",
    "\n",
    "Указать уровень значимости:  \n",
    "- $\\alpha = 0.05$"
   ]
  },
  {
   "cell_type": "code",
   "execution_count": 17,
   "id": "f86f1f46-31d1-4529-a3b7-a196dc2a3048",
   "metadata": {},
   "outputs": [
    {
     "name": "stdout",
     "output_type": "stream",
     "text": [
      "                   df       sum_sq      mean_sq       F  PR(>F)\n",
      "offspring      1.0000  202705.2000  202705.2000  7.0786  0.0137\n",
      "age            2.0000 2427075.8000 1213537.9000 42.3777  0.0000\n",
      "offspring:age  2.0000   50688.2000   25344.1000  0.8850  0.4257\n",
      "Residual      24.0000  687269.6000   28636.2333     NaN     NaN\n"
     ]
    }
   ],
   "source": [
    "# Сформировать датасет на основе исходных данных\n",
    "df = pd.DataFrame({\n",
    "    'offspring': ['нет'] * 15 + ['да'] * 15,\n",
    "    'age': ['1 год'] * 5 + ['2 года'] * 5 + ['3 и более лет'] * 5 + \n",
    "            ['1 год'] * 5 + ['2 года'] * 5 + ['3 и более лет'] * 5,\n",
    "    'weight': [440, 438, 429, 502, 602,\n",
    "               892, 868, 855, 866, 932,\n",
    "               1575, 849, 759, 1602, 1327,\n",
    "               308, 328, 326, 326, 325, \n",
    "               737, 798, 876, 810, 861, \n",
    "               1001, 901, 958, 1032, 883]\n",
    "})\n",
    "\n",
    "# Для более наглядного отображения результатов анализа\n",
    "# задать фиксированное число знаков после запятой\n",
    "pd.options.display.float_format = '{:.4f}'.format\n",
    "\n",
    "# Реализовать модель \n",
    "model = ols('weight ~ offspring + age + offspring:age', data=df).fit()\n",
    "\n",
    "# Использовать последовательные суммы квадратов для отображения результатов ANOVA\n",
    "anova_results = anova_lm(model, typ=1)\n",
    "print(anova_results)"
   ]
  },
  {
   "cell_type": "markdown",
   "id": "f586101f",
   "metadata": {},
   "source": [
    "1. **Статистический вывод:** на основании имеющихся данных, при уровне значимости **5%** (*уровне доверия 95%*):\n",
    "- Фактор **\"Выводок\"** (*offspring*) оказывает влияние на целевой параметр (0.0137 < 0.05);\n",
    "- Фактор **\"Возраст\"** (*age*) оказывает значительное влияние на целевой параметр (0.0000000133 << 0.05);\n",
    "- Взаимодействие вышеперечисленных факторов не является статистически значимым (0.4257 > 0.05).\n",
    "2. **Содержательный вывод:** на основании имеющихся данных можно предполагать, что возраст африканских белок и наличие у них выводка оказывают влияние на их массу тела, однако взаимодействие между возрастом и наличием/отсутствием выводка не является значимым. "
   ]
  }
 ],
 "metadata": {
  "kernelspec": {
   "display_name": ".venv",
   "language": "python",
   "name": "python3"
  },
  "language_info": {
   "codemirror_mode": {
    "name": "ipython",
    "version": 3
   },
   "file_extension": ".py",
   "mimetype": "text/x-python",
   "name": "python",
   "nbconvert_exporter": "python",
   "pygments_lexer": "ipython3",
   "version": "3.11.1"
  }
 },
 "nbformat": 4,
 "nbformat_minor": 5
}
